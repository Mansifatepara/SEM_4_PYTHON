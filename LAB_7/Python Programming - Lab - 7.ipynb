{
 "cells": [
  {
   "cell_type": "markdown",
   "metadata": {},
   "source": [
    "<a href='https://www.darshan.ac.in/'> <img src='https://www.darshan.ac.in/Content/media/DU_Logo.svg' width=\"250\" height=\"300\"/></a>\n",
    "<pre>\n",
    "<center><b><h1>Python Programming - 2301CS404</b></center>\n",
    "<center><b><h1>Lab - 7</b></center>\n",
    "<center><b><h1>Mansi Fatepara | 23010101079 | 15/01/2025</b></center>\n",
    "<pre>"
   ]
  },
  {
   "cell_type": "markdown",
   "metadata": {},
   "source": [
    "# Set & Dictionary"
   ]
  },
  {
   "cell_type": "markdown",
   "metadata": {},
   "source": [
    "### 01) WAP to iterate over a set."
   ]
  },
  {
   "cell_type": "code",
   "execution_count": 2,
   "metadata": {},
   "outputs": [
    {
     "name": "stdout",
     "output_type": "stream",
     "text": [
      "1\n",
      "2\n",
      "3\n",
      "4\n",
      "5\n"
     ]
    }
   ],
   "source": [
    "s = {1,2,3,4,5}\n",
    "for i in s:\n",
    "    print(i)"
   ]
  },
  {
   "cell_type": "markdown",
   "metadata": {},
   "source": [
    "### 02) WAP to convert set into list, string and tuple."
   ]
  },
  {
   "cell_type": "code",
   "execution_count": 11,
   "metadata": {},
   "outputs": [
    {
     "name": "stdout",
     "output_type": "stream",
     "text": [
      "['1', '2', '3', '4', '5']\n",
      "(1, 2, 3, 4, 5)\n",
      "<class 'list'>\n",
      "<class 'tuple'>\n",
      "12345\n"
     ]
    }
   ],
   "source": [
    "s= {1,2,3,4,5}\n",
    "l1 = [str(i) for i in s]\n",
    "T1 = tuple(s)\n",
    "\n",
    "print(l1)\n",
    "print(T1)\n",
    "\n",
    "print(type(l1))\n",
    "print(type(T1))\n",
    "\n",
    "String = ''.join(l1)\n",
    "print(String)"
   ]
  },
  {
   "cell_type": "markdown",
   "metadata": {},
   "source": [
    "### 03) WAP to find Maximum and Minimum from a set."
   ]
  },
  {
   "cell_type": "code",
   "execution_count": 13,
   "metadata": {},
   "outputs": [
    {
     "name": "stdout",
     "output_type": "stream",
     "text": [
      "minimum no. from set is:  11\n",
      "maximum no. from set is:  66\n"
     ]
    }
   ],
   "source": [
    "s = {11,22,33,44,55,66}\n",
    "l1 = list(s)\n",
    "l1.sort()\n",
    "print('minimum no. from set is: ',l1[0])\n",
    "print('maximum no. from set is: ',l1[len(l1)-1])"
   ]
  },
  {
   "cell_type": "markdown",
   "metadata": {},
   "source": [
    "### 04) WAP to perform union of two sets."
   ]
  },
  {
   "cell_type": "code",
   "execution_count": 15,
   "metadata": {},
   "outputs": [
    {
     "data": {
      "text/plain": [
       "{1, 2, 3, 4, 5, 6, 7, 8, 9, 10}"
      ]
     },
     "execution_count": 15,
     "metadata": {},
     "output_type": "execute_result"
    }
   ],
   "source": [
    "s1 = {1,2,3,4,5}\n",
    "s2 = {6,7,8,9,10}\n",
    "s1.union(s2)"
   ]
  },
  {
   "cell_type": "markdown",
   "metadata": {},
   "source": [
    "### 05) WAP to check if two lists have at-least one element common."
   ]
  },
  {
   "cell_type": "code",
   "execution_count": 17,
   "metadata": {},
   "outputs": [
    {
     "name": "stdout",
     "output_type": "stream",
     "text": [
      "{1, 2, 3, 4, 5}\n",
      "{2, 4, 6, 7, 8}\n",
      "{1, 2, 3, 4, 5, 6, 7, 8}\n",
      "HERE ENTERED LISTS HAVE COMMON ELEMENTS\n"
     ]
    }
   ],
   "source": [
    "l1 = [1,2,3,4,5]\n",
    "l2 = [2,4,6,7,8]\n",
    "s1 = set(l1)\n",
    "s2 = set(l2)\n",
    "s3 = s1.union(s2)\n",
    "\n",
    "print(s1)\n",
    "print(s2)\n",
    "print(s3)\n",
    "\n",
    "lengthOfSets = len(s1)+len(s2)\n",
    "lengthOfSet3 = len(s3)\n",
    "\n",
    "if lengthOfSets==lengthOfSet3:\n",
    "    print('HERE ENTERED LISTS DON\\'T HAVE COMMON ELEMENTS')\n",
    "else:\n",
    "    print('HERE ENTERED LISTS HAVE COMMON ELEMENTS')"
   ]
  },
  {
   "cell_type": "markdown",
   "metadata": {},
   "source": [
    "### 06) WAP to remove duplicates from list."
   ]
  },
  {
   "cell_type": "code",
   "execution_count": 19,
   "metadata": {},
   "outputs": [
    {
     "name": "stdout",
     "output_type": "stream",
     "text": [
      "{1, 2, 3, 4, 5}\n"
     ]
    }
   ],
   "source": [
    "l1 = [1,2,3,4,5,5,4,3,2,1]\n",
    "s = set(l1)\n",
    "print(s)"
   ]
  },
  {
   "cell_type": "markdown",
   "metadata": {},
   "source": [
    "### 07) WAP to find unique words in the given string."
   ]
  },
  {
   "cell_type": "code",
   "execution_count": 21,
   "metadata": {},
   "outputs": [
    {
     "name": "stdout",
     "output_type": "stream",
     "text": [
      "{'s', 'y', 'k'}\n"
     ]
    }
   ],
   "source": [
    "String = 'skyyks'\n",
    "s = set(String)\n",
    "print(s)"
   ]
  },
  {
   "cell_type": "markdown",
   "metadata": {},
   "source": [
    "### 08) WAP to remove common elements of set A & B from set A."
   ]
  },
  {
   "cell_type": "code",
   "execution_count": 27,
   "metadata": {},
   "outputs": [
    {
     "name": "stdout",
     "output_type": "stream",
     "text": [
      "{1, 2}\n"
     ]
    }
   ],
   "source": [
    "A = {1,2,3,4,5}\n",
    "B = {5,6,3,4}\n",
    "C = A.difference(B)\n",
    "print(C)"
   ]
  },
  {
   "cell_type": "markdown",
   "metadata": {},
   "source": [
    "### 09) WAP to check whether two given strings are anagram or not using set."
   ]
  },
  {
   "cell_type": "code",
   "execution_count": 49,
   "metadata": {},
   "outputs": [
    {
     "name": "stdout",
     "output_type": "stream",
     "text": [
      "GIVEN 2 STRINGS ARE ANAGRAM!!\n"
     ]
    }
   ],
   "source": [
    "str1 = 'sky'\n",
    "str2 = 'yks'\n",
    "set1 = set(str1)\n",
    "set2 = set(str2)\n",
    "\n",
    "for i in set1:\n",
    "    if i in set2 or len(str1)==len(str2):\n",
    "        print('GIVEN 2 STRINGS ARE ANAGRAM!!')\n",
    "        break\n",
    "else:\n",
    "    print('GIVEN 2 STRINGS ARE NOT NAGRAM!!')"
   ]
  },
  {
   "cell_type": "markdown",
   "metadata": {},
   "source": [
    "### 10) WAP to find common elements in three lists using set."
   ]
  },
  {
   "cell_type": "code",
   "execution_count": 53,
   "metadata": {},
   "outputs": [
    {
     "name": "stdout",
     "output_type": "stream",
     "text": [
      "{33, 44}\n"
     ]
    }
   ],
   "source": [
    "l1 = [11,22,33,44]\n",
    "l2 = [33,55,66,44,77]\n",
    "l3 = [33,44,22,77]\n",
    "\n",
    "s1 = set(l1)\n",
    "s2 = set(l2)\n",
    "s3 = set(l3)\n",
    "\n",
    "s = s1.intersection(s2,s3)\n",
    "print(s)"
   ]
  },
  {
   "cell_type": "markdown",
   "metadata": {},
   "source": [
    "### 11) WAP to count number of vowels in given string using set."
   ]
  },
  {
   "cell_type": "code",
   "execution_count": 55,
   "metadata": {},
   "outputs": [
    {
     "name": "stdout",
     "output_type": "stream",
     "text": [
      "5\n"
     ]
    }
   ],
   "source": [
    "string = 'abcdeiou' #vowels are 5\n",
    "vowels = {'a','e','i','o','u','A','E','I','O','U'}\n",
    "count=0\n",
    "for i in string:\n",
    "    if i in vowels:\n",
    "        count+=1\n",
    "print(count)"
   ]
  },
  {
   "cell_type": "markdown",
   "metadata": {},
   "source": [
    "### 12) WAP to check if a given string is binary string or not."
   ]
  },
  {
   "cell_type": "code",
   "execution_count": 95,
   "metadata": {},
   "outputs": [
    {
     "name": "stdout",
     "output_type": "stream",
     "text": [
      "GIVEN STRING IS BINARY\n"
     ]
    }
   ],
   "source": [
    "string = '010101'\n",
    "s = {'0','1'}\n",
    "for i in string:\n",
    "    if i not in s:\n",
    "        print('GIVEN STRING IS NOT BINARY')\n",
    "        break\n",
    "else:\n",
    "    print('GIVEN STRING IS BINARY')"
   ]
  },
  {
   "cell_type": "markdown",
   "metadata": {},
   "source": [
    "### 13) WAP to sort dictionary by key or value."
   ]
  },
  {
   "cell_type": "code",
   "execution_count": 97,
   "metadata": {},
   "outputs": [
    {
     "name": "stdout",
     "output_type": "stream",
     "text": [
      "['mansi', 'khushi', 'bansi', 'isha', 'krishna']\n",
      "By keys: ['bansi', 'isha', 'khushi', 'krishna', 'mansi']\n",
      "[101, 110, 107, 105, 130]\n",
      "By values: [101, 105, 107, 110, 130]\n"
     ]
    }
   ],
   "source": [
    "# Sorting by key\n",
    "d1=dict()\n",
    "d1={'mansi':101,'khushi':110,'bansi':107,'isha':105,'krishna':130}\n",
    "k1=list(d1.keys())\n",
    "print(k1)\n",
    "k1.sort()\n",
    "print(\"By keys:\",k1)\n",
    "\n",
    "\n",
    "# Sorting by values\n",
    "l1=list(d1.values())\n",
    "print(l1)\n",
    "l1.sort()\n",
    "print(\"By values:\",l1)"
   ]
  },
  {
   "cell_type": "markdown",
   "metadata": {},
   "source": [
    "### 14) WAP to find the sum of all items (values) in a dictionary given by user. (Assume: values are numeric)"
   ]
  },
  {
   "cell_type": "code",
   "execution_count": 103,
   "metadata": {},
   "outputs": [
    {
     "name": "stdout",
     "output_type": "stream",
     "text": [
      "sum of values are :  15\n"
     ]
    }
   ],
   "source": [
    "d1={'mansi':1,'khushi':0,'bansi':6,'isha':5,'krishna':3}\n",
    "l1=d1.values()\n",
    "sum=0\n",
    "for i in l1:\n",
    "    sum+=i\n",
    "\n",
    "print(\"sum of values are : \",sum)"
   ]
  },
  {
   "cell_type": "markdown",
   "metadata": {},
   "source": [
    "### 15) WAP to handle missing keys in dictionaries.\n",
    "#### Example : Given, dict1 = {'a': 5, 'c': 8, 'e': 2} \n",
    "#### if you look for key = 'd', the message given should be 'Key Not Found', otherwise print the value of 'd' in dict1."
   ]
  },
  {
   "cell_type": "code",
   "execution_count": 113,
   "metadata": {},
   "outputs": [
    {
     "name": "stdin",
     "output_type": "stream",
     "text": [
      "Enter the key to be found: a\n"
     ]
    },
    {
     "data": {
      "text/plain": [
       "5"
      ]
     },
     "execution_count": 113,
     "metadata": {},
     "output_type": "execute_result"
    }
   ],
   "source": [
    "dict1 = {'a': 5, 'c': 8, 'e': 2}\n",
    "key1=input(\"Enter the key to be found:\")\n",
    "dict1.get(key1,'Key Not Found')\n",
    "# print(dict1)"
   ]
  }
 ],
 "metadata": {
  "kernelspec": {
   "display_name": "Python 3 (ipykernel)",
   "language": "python",
   "name": "python3"
  },
  "language_info": {
   "codemirror_mode": {
    "name": "ipython",
    "version": 3
   },
   "file_extension": ".py",
   "mimetype": "text/x-python",
   "name": "python",
   "nbconvert_exporter": "python",
   "pygments_lexer": "ipython3",
   "version": "3.12.7"
  }
 },
 "nbformat": 4,
 "nbformat_minor": 4
}
