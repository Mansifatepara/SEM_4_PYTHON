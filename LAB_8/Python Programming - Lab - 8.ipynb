{
 "cells": [
  {
   "cell_type": "markdown",
   "metadata": {},
   "source": [
    "<a href='https://www.darshan.ac.in/'> <img src='https://www.darshan.ac.in/Content/media/DU_Logo.svg' width=\"250\" height=\"300\"/></a>\n",
    "<pre>\n",
    "<center><b><h1>Python Programming - 2301CS404</b></center>\n",
    "<center><b><h1>Lab - 8</b></center>\n",
    "<center><b><h1>Mansi Fatepara | 23010101079 | 15/01/2025</b></center>\n",
    "<pre>"
   ]
  },
  {
   "cell_type": "markdown",
   "metadata": {},
   "source": [
    "# User Defined Function"
   ]
  },
  {
   "cell_type": "markdown",
   "metadata": {},
   "source": [
    "### 01) Write a function to calculate BMI given mass and height. (BMI = mass/h**2)"
   ]
  },
  {
   "cell_type": "code",
   "execution_count": 9,
   "metadata": {},
   "outputs": [
    {
     "name": "stdout",
     "output_type": "stream",
     "text": [
      "2.0\n"
     ]
    }
   ],
   "source": [
    "def Cal_BMI(m,h):\n",
    "    BMI = (m/(h**2))\n",
    "    print(BMI)\n",
    "\n",
    "Cal_BMI(8,2)"
   ]
  },
  {
   "cell_type": "markdown",
   "metadata": {},
   "source": [
    "### 02) Write a function that add first n numbers."
   ]
  },
  {
   "cell_type": "code",
   "execution_count": 15,
   "metadata": {},
   "outputs": [
    {
     "data": {
      "text/plain": [
       "6"
      ]
     },
     "execution_count": 15,
     "metadata": {},
     "output_type": "execute_result"
    }
   ],
   "source": [
    "def add_n_number(n):\n",
    "    sum=0\n",
    "    for i in range(0,n+1):\n",
    "        sum+=i\n",
    "    return sum\n",
    "    \n",
    "add_n_number(3)"
   ]
  },
  {
   "cell_type": "markdown",
   "metadata": {},
   "source": [
    "### 03) Write a function that returns 1 if the given number is Prime or 0 otherwise."
   ]
  },
  {
   "cell_type": "code",
   "execution_count": 17,
   "metadata": {},
   "outputs": [
    {
     "name": "stdout",
     "output_type": "stream",
     "text": [
      "number is not prime 10\n",
      "number is  prime 5\n"
     ]
    },
    {
     "data": {
      "text/plain": [
       "1"
      ]
     },
     "execution_count": 17,
     "metadata": {},
     "output_type": "execute_result"
    }
   ],
   "source": [
    "def prime_or_not(n):\n",
    "    for i in range(2,n):\n",
    "        if(n%i==0):\n",
    "            print(\"number is not prime\",n)\n",
    "            return 0\n",
    "        else:\n",
    "            print(\"number is  prime\",n)\n",
    "            return 1\n",
    "\n",
    "prime_or_not(10)\n",
    "prime_or_not(5)"
   ]
  },
  {
   "cell_type": "markdown",
   "metadata": {},
   "source": [
    "### 04) Write a function that returns the list of Prime numbers between given two numbers."
   ]
  },
  {
   "cell_type": "code",
   "execution_count": 19,
   "metadata": {},
   "outputs": [
    {
     "name": "stdout",
     "output_type": "stream",
     "text": [
      "2\n",
      "3\n",
      "5\n",
      "7\n"
     ]
    }
   ],
   "source": [
    "def prime_or_not_2number(n,m):\n",
    "    for i in range(n,m+1):\n",
    "        if i<2:\n",
    "            continue\n",
    "        for j in range(2,i):\n",
    "            if(i%j==0):\n",
    "              break;\n",
    "        else:\n",
    "            print(i)\n",
    "\n",
    "prime_or_not_2number(1,10)"
   ]
  },
  {
   "cell_type": "markdown",
   "metadata": {},
   "source": [
    "### 05) Write a function that returns True if the given string is Palindrome or False otherwise."
   ]
  },
  {
   "cell_type": "code",
   "execution_count": 13,
   "metadata": {},
   "outputs": [
    {
     "data": {
      "text/plain": [
       "True"
      ]
     },
     "execution_count": 13,
     "metadata": {},
     "output_type": "execute_result"
    }
   ],
   "source": [
    "def isPalindrome(string):\n",
    "    if string == string[::-1]:\n",
    "        return True\n",
    "    else:\n",
    "        return False\n",
    "\n",
    "isPalindrome('sks')\n",
    "# isPalindrome('sky')"
   ]
  },
  {
   "cell_type": "markdown",
   "metadata": {},
   "source": [
    "### 06) Write a function that returns the sum of all the elements of the list."
   ]
  },
  {
   "cell_type": "code",
   "execution_count": 21,
   "metadata": {},
   "outputs": [
    {
     "name": "stdout",
     "output_type": "stream",
     "text": [
      "15\n"
     ]
    }
   ],
   "source": [
    "def sum_element_list(l):\n",
    "    sum=0\n",
    "    for i in l:\n",
    "        sum+=i\n",
    "    print(sum)\n",
    "\n",
    "sum_element_list([1,2,3,4,5])"
   ]
  },
  {
   "cell_type": "markdown",
   "metadata": {},
   "source": [
    "### 07) Write a function to calculate the sum of the first element of each tuples inside the list."
   ]
  },
  {
   "cell_type": "code",
   "execution_count": 23,
   "metadata": {},
   "outputs": [
    {
     "name": "stdout",
     "output_type": "stream",
     "text": [
      "15\n"
     ]
    }
   ],
   "source": [
    "def sum_first_element(tuple_list):\n",
    "    sum=0\n",
    "    for i in tuple_list:\n",
    "        sum+=i[0]\n",
    "    print(sum)\n",
    "\n",
    "sum_first_element([(1,2),(2,3),(3,4),(4,5),(5,6)])"
   ]
  },
  {
   "cell_type": "markdown",
   "metadata": {},
   "source": [
    "### 08) Write a recursive function to find nth term of Fibonacci Series."
   ]
  },
  {
   "cell_type": "code",
   "execution_count": 37,
   "metadata": {},
   "outputs": [
    {
     "name": "stdout",
     "output_type": "stream",
     "text": [
      "The 5th term in the Fibonacci series is 3.\n"
     ]
    }
   ],
   "source": [
    "def fibonacci(n):\n",
    "    \"\"\"\n",
    "    Recursive function to find the nth term of the Fibonacci series.\n",
    "    :param n: The position in the Fibonacci series (1-based index).\n",
    "    :return: The nth Fibonacci number.\n",
    "    \"\"\"\n",
    "    if n <= 0:\n",
    "        raise ValueError(\"The position must be a positive integer.\")\n",
    "    if n == 1:\n",
    "        return 0  # First term in the Fibonacci series\n",
    "    elif n == 2:\n",
    "        return 1  # Second term in the Fibonacci series\n",
    "    else:\n",
    "        return fibonacci(n - 1) + fibonacci(n - 2)\n",
    "\n",
    "# Example usage:\n",
    "n = 5  # Change this to find the nth term\n",
    "print(f\"The {n}th term in the Fibonacci series is {fibonacci(n)}.\")\n"
   ]
  },
  {
   "cell_type": "markdown",
   "metadata": {},
   "source": [
    "### 09) Write a function to get the name of the student based on the given rollno.\n",
    "#### Example: Given dict1 = {101:'Ajay', 102:'Rahul', 103:'Jay', 104:'Pooja'} find name of student whose rollno = 103"
   ]
  },
  {
   "cell_type": "code",
   "execution_count": 39,
   "metadata": {},
   "outputs": [
    {
     "name": "stdout",
     "output_type": "stream",
     "text": [
      "Jay\n"
     ]
    }
   ],
   "source": [
    "def get_rollno(rollno,student_dic):\n",
    "    return student_dic.get(rollno)\n",
    "\n",
    "students = {\n",
    "    101:'Ajay',\n",
    "    102:'Rahul',\n",
    "    103:'Jay',\n",
    "    104:'Pooja',\n",
    "}\n",
    "\n",
    "print(get_rollno(103,students))"
   ]
  },
  {
   "cell_type": "markdown",
   "metadata": {},
   "source": [
    "### 10) Write a function to get the sum of the scores ending with zero.\n",
    "#### Example : scores = [200, 456, 300, 100, 234, 678] \n",
    "#### Ans = 200 + 300 + 100 = 600"
   ]
  },
  {
   "cell_type": "code",
   "execution_count": 44,
   "metadata": {},
   "outputs": [
    {
     "name": "stdout",
     "output_type": "stream",
     "text": [
      "600\n",
      "None\n"
     ]
    }
   ],
   "source": [
    "def cla_score(scores):\n",
    "    sum=0\n",
    "    for i in scores:\n",
    "        if(i%10==0):\n",
    "            sum+=i\n",
    "    print(sum)\n",
    "\n",
    "scores=[200,456,300,100,234,678]\n",
    "\n",
    "print(cla_score(scores))"
   ]
  },
  {
   "cell_type": "markdown",
   "metadata": {},
   "source": [
    "### 11) Write a function to invert a given Dictionary.\n",
    "#### hint: keys to values & values to keys\n",
    "#### Before : {'a': 10, 'b':20, 'c':30, 'd':40}\n",
    "#### After : {10:'a', 20:'b', 30:'c', 40:'d'}"
   ]
  },
  {
   "cell_type": "code",
   "execution_count": 68,
   "metadata": {},
   "outputs": [
    {
     "name": "stdout",
     "output_type": "stream",
     "text": [
      "input_dict: {'a': 10, 'b': 20, 'c': 30, 'd': 40}\n",
      "output_dict: {10: 'a', 20: 'b', 30: 'c', 40: 'd'}\n"
     ]
    }
   ],
   "source": [
    "def invert_keys_values(input_dict):\n",
    "    result = {}\n",
    "    for key, value in input_dict.items():\n",
    "        result[value] = key\n",
    "    return result\n",
    "\n",
    "input_dict = {'a': 10, 'b': 20, 'c': 30, 'd': 40}\n",
    "\n",
    "print(\"input_dict:\",input_dict)\n",
    "print(\"output_dict:\",invert_keys_values(input_dict))"
   ]
  },
  {
   "cell_type": "markdown",
   "metadata": {},
   "source": [
    "### 12) Write a function to check whether the given string is Pangram or not.\n",
    "#### hint: Pangram is a string containing all the characters a-z atlest once.\n",
    "#### \"the quick brown fox jumps over the lazy dog\" is a Pangram string."
   ]
  },
  {
   "cell_type": "code",
   "execution_count": 70,
   "metadata": {},
   "outputs": [
    {
     "data": {
      "text/plain": [
       "True"
      ]
     },
     "execution_count": 70,
     "metadata": {},
     "output_type": "execute_result"
    }
   ],
   "source": [
    "def is_pangram(input_string):\n",
    "    alphabet = set(\"abcdefghijklmnopqrstuvwxyz\")\n",
    "    input_set = set(input_string.lower())\n",
    "    return alphabet.issubset(input_set)\n",
    "\n",
    "is_pangram(\"the quick brown fox jumps over the lazy dog\")"
   ]
  },
  {
   "cell_type": "markdown",
   "metadata": {},
   "source": [
    "### 13) Write a function that returns the number of uppercase and lowercase letters in the given string. \n",
    "#### example : Input : s1 = AbcDEfgh ,Ouptput : no_upper = 3, no_lower = 5"
   ]
  },
  {
   "cell_type": "code",
   "execution_count": 1,
   "metadata": {},
   "outputs": [
    {
     "data": {
      "text/plain": [
       "{'upper': 3, 'lower': 5}"
      ]
     },
     "execution_count": 1,
     "metadata": {},
     "output_type": "execute_result"
    }
   ],
   "source": [
    "def upper_lower(input_string):\n",
    "    upper_count=0\n",
    "    lower_count=0\n",
    "    for char in input_string:\n",
    "        if char.isupper():\n",
    "            upper_count+=1\n",
    "        elif char.islower():\n",
    "            lower_count+=1\n",
    "    return {\"upper\":upper_count , \"lower\":lower_count}\n",
    "\n",
    "s1 = \"AbcDEfgh\"\n",
    "upper_lower(s1)"
   ]
  },
  {
   "cell_type": "markdown",
   "metadata": {},
   "source": [
    "### 14) Write a lambda function to get smallest number from the given two numbers."
   ]
  },
  {
   "cell_type": "code",
   "execution_count": 3,
   "metadata": {},
   "outputs": [
    {
     "name": "stdout",
     "output_type": "stream",
     "text": [
      "30\n"
     ]
    }
   ],
   "source": [
    "smallest = lambda a,b :a if a<b else b\n",
    "\n",
    "result = smallest(30,50)\n",
    "print(result)"
   ]
  },
  {
   "cell_type": "markdown",
   "metadata": {},
   "source": [
    "### 15) For the given list of names of students, extract the names having more that 7 characters. Use filter()."
   ]
  },
  {
   "cell_type": "code",
   "execution_count": 11,
   "metadata": {},
   "outputs": [
    {
     "name": "stdout",
     "output_type": "stream",
     "text": [
      "['mansifatepara']\n"
     ]
    }
   ],
   "source": [
    "# student_list = [\"mansi\",\"khushi\",\"bansi\",\"janvi\",\"isha\"]\n",
    "student_list = [\"mansifatepara\",\"khushi\",\"bansi\",\"janvi\",\"isha\"]\n",
    "\n",
    "student_filter=list(filter(lambda name :len(name)>=7,student_list))\n",
    "\n",
    "print(student_filter)"
   ]
  },
  {
   "cell_type": "markdown",
   "metadata": {},
   "source": [
    "### 16) For the given list of names of students, convert the first letter of all the names into uppercase. use map()."
   ]
  },
  {
   "cell_type": "code",
   "execution_count": 15,
   "metadata": {},
   "outputs": [
    {
     "name": "stdout",
     "output_type": "stream",
     "text": [
      "['Mansi', 'Khushi', 'Bansi', 'Janvi', 'Isha']\n"
     ]
    }
   ],
   "source": [
    "student_list = [\"mansi\",\"khushi\",\"bansi\",\"janvi\",\"isha\"]\n",
    " \n",
    "cover_capitalized = list(map(lambda name:name.capitalize(),student_list))\n",
    "\n",
    "print(cover_capitalized)"
   ]
  },
  {
   "cell_type": "markdown",
   "metadata": {},
   "source": [
    "### 17) Write udfs to call the functions with following types of arguments:\n",
    "1. Positional Arguments\n",
    "2. Keyword Arguments\n",
    "3. Default Arguments\n",
    "4. Variable Legngth Positional(*args) & variable length Keyword Arguments (**kwargs)\n",
    "5. Keyword-Only & Positional Only Arguments"
   ]
  },
  {
   "cell_type": "code",
   "execution_count": 17,
   "metadata": {},
   "outputs": [
    {
     "name": "stdout",
     "output_type": "stream",
     "text": [
      "Positional Argument 30\n",
      "----------------------------------------------------\n",
      "Keyword Arguments 30\n",
      "----------------------------------------------------\n",
      "Default Arguments 110\n",
      "Default Arguments 30\n",
      "----------------------------------------------------\n",
      "Variable Legngth Positional(*args)  10\n",
      "variable length Keyword Arguments (**kwargs) {'name': 'nandani', 'age': 19}\n",
      "----------------------------------------------------\n",
      "Keyword-Only Keyword-Only  30\n",
      "----------------------------------------------------\n",
      "Positional Only Arguments 23\n"
     ]
    }
   ],
   "source": [
    "def positional_args(a, b):\n",
    "    return a + b\n",
    "\n",
    "print(\"Positional Argument\",positional_args(10, 20))  \n",
    "\n",
    "print(\"----------------------------------------------------\")\n",
    "\n",
    "def keyword_args(a,b):\n",
    "    return a + b\n",
    "\n",
    "print(\"Keyword Arguments\",keyword_args(b=10,a=20))\n",
    "\n",
    "print(\"----------------------------------------------------\")\n",
    "\n",
    "def default_args(a,b=100):\n",
    "    return a + b\n",
    "\n",
    "print(\"Default Arguments\",default_args(10))\n",
    "print(\"Default Arguments\",default_args(10,20))\n",
    "\n",
    "print(\"----------------------------------------------------\")\n",
    "\n",
    "def variable_positional_args(*args):\n",
    "    return sum(args)\n",
    "\n",
    "print(\"Variable Legngth Positional(*args) \",variable_positional_args(1, 2, 3, 4))  \n",
    "\n",
    "def variable_keyword_args(**kwargs):\n",
    "    return kwargs\n",
    "\n",
    "print(\"variable length Keyword Arguments (**kwargs)\",variable_keyword_args(name=\"nandani\", age=19))  \n",
    "\n",
    "print(\"----------------------------------------------------\")\n",
    "\n",
    "def keyword_only_args(a, *, b):\n",
    "    return a + b\n",
    "\n",
    "print(\"Keyword-Only Keyword-Only \",keyword_only_args(10, b=20))\n",
    "# print(\"Keyword-Only Keyword-Only \",keyword_only_args(10, 5))  # Error: b must be passed as a keyword argument\n",
    "\n",
    "print(\"----------------------------------------------------\")\n",
    "\n",
    "def positional_only_args(a, b, /, c):\n",
    "    return a + b + c\n",
    "\n",
    "print(\"Positional Only Arguments\",positional_only_args(10, 10, c=3))\n",
    "# print(\"Positional Only Arguments\",positional_only_args(a=10, b=5, c=3))  # Error: a and b must be positional-only"
   ]
  },
  {
   "cell_type": "code",
   "execution_count": null,
   "metadata": {},
   "outputs": [],
   "source": []
  }
 ],
 "metadata": {
  "kernelspec": {
   "display_name": "Python 3 (ipykernel)",
   "language": "python",
   "name": "python3"
  },
  "language_info": {
   "codemirror_mode": {
    "name": "ipython",
    "version": 3
   },
   "file_extension": ".py",
   "mimetype": "text/x-python",
   "name": "python",
   "nbconvert_exporter": "python",
   "pygments_lexer": "ipython3",
   "version": "3.12.7"
  }
 },
 "nbformat": 4,
 "nbformat_minor": 4
}
