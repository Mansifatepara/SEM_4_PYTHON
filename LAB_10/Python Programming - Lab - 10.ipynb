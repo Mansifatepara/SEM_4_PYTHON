{
 "cells": [
  {
   "cell_type": "markdown",
   "metadata": {},
   "source": [
    "<a href='https://www.darshan.ac.in/'> <img src='https://www.darshan.ac.in/Content/media/DU_Logo.svg' width=\"250\" height=\"300\"/></a>\n",
    "<pre>\n",
    "<center><b><h1>Python Programming - 2301CS404</b></center>\n",
    "<center><b><h1>Lab - 10</b></center>\n",
    "<center><b><h1>Mansi Fatepara | 23010101079 | 05/02/2025</b></center>\n",
    "<pre>"
   ]
  },
  {
   "cell_type": "markdown",
   "metadata": {},
   "source": [
    "# Exception Handling"
   ]
  },
  {
   "cell_type": "markdown",
   "metadata": {},
   "source": [
    "### 01) WAP to handle following exceptions:\n",
    "1. ZeroDivisionError\n",
    "2. ValueError\n",
    "3. TypeError\n",
    "#### Note: handle them using separate except blocks and also using single except block too."
   ]
  },
  {
   "cell_type": "code",
   "execution_count": 31,
   "metadata": {},
   "outputs": [
    {
     "name": "stdout",
     "output_type": "stream",
     "text": [
      "Some runtime error!\n"
     ]
    }
   ],
   "source": [
    "# print before try block\n",
    "try:\n",
    "    a = int(input('Enter first number: '))\n",
    "    print(a/0)\n",
    "\n",
    "    #TypeError\n",
    "    print(a+'0')\n",
    "    \n",
    "    #input : 10\n",
    "except ZeroDivisionError:\n",
    "    print('can not divide a number by zero')\n",
    "\n",
    "    #input : abc\n",
    "except ValueError:\n",
    "    print('Please enter valid integer number, string is not allowed')\n",
    "\n",
    "    #input : a + '0'\n",
    "except:\n",
    "    print('Some runtime error!')"
   ]
  },
  {
   "cell_type": "markdown",
   "metadata": {},
   "source": [
    "### 02)  WAP to handle following exceptions:\n",
    "1. IndexError\n",
    "2. KeyError"
   ]
  },
  {
   "cell_type": "code",
   "execution_count": 55,
   "metadata": {},
   "outputs": [
    {
     "name": "stdin",
     "output_type": "stream",
     "text": [
      "Enter a number:  5\n"
     ]
    },
    {
     "name": "stdout",
     "output_type": "stream",
     "text": [
      "Key Error\n"
     ]
    }
   ],
   "source": [
    "# list_len = int(input('enter a legth of list: '))\n",
    "# list = [input('enter a list of element: ') for i in range(0,list_len)]\n",
    "# try:\n",
    "#     index = int(input('enter a index: '))\n",
    "#     print(list[index])\n",
    "# except IndexError as err:\n",
    "#     print(err)\n",
    "\n",
    "sub = {\n",
    "    1:'Maths',\n",
    "    2:'Science',\n",
    "    3:'Biology',\n",
    "    4:'Hindi'\n",
    "}\n",
    "try:\n",
    "    n = int(input('Enter a number: '))\n",
    "    print(sub[n])\n",
    "except KeyError:\n",
    "    print('Key Error')"
   ]
  },
  {
   "cell_type": "markdown",
   "metadata": {},
   "source": [
    "### 03) WAP to handle following exceptions:\n",
    "1. FileNotFoundError\n",
    "2. ModuleNotFoundError"
   ]
  },
  {
   "cell_type": "code",
   "execution_count": 65,
   "metadata": {},
   "outputs": [
    {
     "name": "stdout",
     "output_type": "stream",
     "text": [
      "module not found\n"
     ]
    }
   ],
   "source": [
    "# try:\n",
    "#     fp = open('file1.txt','r')\n",
    "#     print(fp.read())\n",
    "#     fp.close()\n",
    "# except:\n",
    "#     print('File not found error')\n",
    "\n",
    "\n",
    "try:\n",
    "    import maths\n",
    "    num = int(input('enter a num: '))\n",
    "    print(maths.sqrt(num))\n",
    "except:\n",
    "    print('module not found')"
   ]
  },
  {
   "cell_type": "markdown",
   "metadata": {},
   "source": [
    "### 04) WAP that catches all type of exceptions in a single except block."
   ]
  },
  {
   "cell_type": "code",
   "execution_count": 67,
   "metadata": {},
   "outputs": [
    {
     "name": "stdin",
     "output_type": "stream",
     "text": [
      "Enter length of list 2\n",
      "Enter element of list 1\n",
      "Enter element of list 2\n",
      "Enter a index 3\n"
     ]
    },
    {
     "name": "stdout",
     "output_type": "stream",
     "text": [
      "list index out of range\n"
     ]
    }
   ],
   "source": [
    "list_length = int(input(\"Enter length of list\"))\n",
    "list = [input(\"Enter element of list\") for i in range(0, list_length)]\n",
    "try:\n",
    "    index = int(input(\"Enter a index\"))\n",
    "    print(list[index])\n",
    "    fp = open(\"file1.txt\", \"r\")\n",
    "    print(fp.read())\n",
    "    fp.close()\n",
    "except (IndexError, FileNotFoundError) as err :\n",
    "    print(err)"
   ]
  },
  {
   "cell_type": "markdown",
   "metadata": {},
   "source": [
    "### 05) WAP to demonstrate else  and finally block."
   ]
  },
  {
   "cell_type": "code",
   "execution_count": 69,
   "metadata": {},
   "outputs": [
    {
     "name": "stdout",
     "output_type": "stream",
     "text": [
      "file not found error\n",
      "finally block execute\n"
     ]
    }
   ],
   "source": [
    "try:\n",
    "    fp = oprn('file1.txt','r')\n",
    "except:\n",
    "    print('file not found error')\n",
    "else:\n",
    "    print(fp.read())\n",
    "    fp.close()\n",
    "finally:\n",
    "    print('finally block execute')"
   ]
  },
  {
   "cell_type": "markdown",
   "metadata": {},
   "source": [
    "### 06) Create a short program that prompts the user for a list of grades separated by commas. \n",
    "### Split the string into individual grades and use a list comprehension to convert each string to an integer. \n",
    "### You should use a try statement to inform the user when the values they entered cannot be converted."
   ]
  },
  {
   "cell_type": "code",
   "execution_count": 81,
   "metadata": {},
   "outputs": [
    {
     "name": "stdin",
     "output_type": "stream",
     "text": [
      "Enter length of list 3\n",
      "Enter element of list:  1\n",
      "Enter element of list:  2\n",
      "Enter element of list:  abc\n"
     ]
    },
    {
     "name": "stdout",
     "output_type": "stream",
     "text": [
      "values can not converted string to ineger\n"
     ]
    }
   ],
   "source": [
    "list = [input('Enter element of list: ') for i in range(0, int(input('Enter length of list')))]\n",
    "try:\n",
    "    list1 = [int(i) for i in list]\n",
    "except:\n",
    "    print('values can not converted string to ineger')"
   ]
  },
  {
   "cell_type": "markdown",
   "metadata": {},
   "source": [
    "### 07) WAP to create an udf divide(a,b) that handles ZeroDivisionError."
   ]
  },
  {
   "cell_type": "code",
   "execution_count": 89,
   "metadata": {},
   "outputs": [
    {
     "name": "stdin",
     "output_type": "stream",
     "text": [
      "enter first num:  2\n",
      "enter second num:  0\n"
     ]
    },
    {
     "name": "stdout",
     "output_type": "stream",
     "text": [
      "integer division or modulo by zero\n"
     ]
    }
   ],
   "source": [
    "def divide(a,b):\n",
    "    try:\n",
    "        return a//b\n",
    "    except ZeroDivisionError as err:\n",
    "        print(err)\n",
    "\n",
    "divide(int(input('enter first num: ')),int(input('enter second num: ')))"
   ]
  },
  {
   "cell_type": "markdown",
   "metadata": {},
   "source": [
    "### 08) WAP that gets an age of a person form the user and raises ValueError with error message: \"Enter Valid Age\" :\n",
    "#### If the age is less than 18. \n",
    "#### otherwise print the age."
   ]
  },
  {
   "cell_type": "code",
   "execution_count": 93,
   "metadata": {},
   "outputs": [
    {
     "name": "stdin",
     "output_type": "stream",
     "text": [
      "enter age:  12\n"
     ]
    },
    {
     "name": "stdout",
     "output_type": "stream",
     "text": [
      "Age must be greater than 18\n"
     ]
    }
   ],
   "source": [
    "try:\n",
    "    age = int(input('enter age: '))\n",
    "    if(age>=18):\n",
    "        print(age)\n",
    "    else:\n",
    "        raise ValueError('Age must be greater than 18')\n",
    "except ValueError as err:\n",
    "    print(err)"
   ]
  },
  {
   "cell_type": "markdown",
   "metadata": {},
   "source": [
    "### 09) WAP to raise your custom Exception named InvalidUsernameError with the error message : \"Username must be between 5 and 15 characters long\":\n",
    "#### if the given name is having characters less than 5 or greater than 15.\n",
    "#### otherwise print the given username."
   ]
  },
  {
   "cell_type": "code",
   "execution_count": 103,
   "metadata": {},
   "outputs": [
    {
     "name": "stdin",
     "output_type": "stream",
     "text": [
      "Enter your name:  mansi\n"
     ]
    },
    {
     "name": "stdout",
     "output_type": "stream",
     "text": [
      "Username must be 5 and 15 characters long!\n"
     ]
    }
   ],
   "source": [
    "class InvalidUsernameError(Exception):\n",
    "    def __init__(self,msg):\n",
    "        self.msg = msg\n",
    "\n",
    "try:\n",
    "    name = input('Enter your name: ')\n",
    "    if(len(name)>5 and len(name)<15):\n",
    "        print(name)\n",
    "    else:\n",
    "        raise InvalidUsernameError('Username must be 5 and 15 characters long!')\n",
    "except InvalidUsernameError as err:\n",
    "    print(err)"
   ]
  },
  {
   "cell_type": "markdown",
   "metadata": {},
   "source": [
    "### 10) WAP to raise your custom Exception named NegativeNumberError with the error message : \"Cannot calculate the square root of a negative number\" :\n",
    "#### if the given number is negative.\n",
    "#### otherwise print the square root of the given number."
   ]
  },
  {
   "cell_type": "code",
   "execution_count": 107,
   "metadata": {},
   "outputs": [
    {
     "name": "stdin",
     "output_type": "stream",
     "text": [
      "Enter a num:  -1\n"
     ]
    },
    {
     "name": "stdout",
     "output_type": "stream",
     "text": [
      "Cannot calculate the square root of a negative number\n"
     ]
    }
   ],
   "source": [
    "import math\n",
    "class NegativeNumberError(Exception):\n",
    "    def __init__(self,msg):\n",
    "        self.msg = msg\n",
    "\n",
    "try:\n",
    "    num = int(input('Enter a num: '))\n",
    "    if num>0:\n",
    "        print(math.sqrt(num))\n",
    "    else:\n",
    "        raise NegativeNumberError('Cannot calculate the square root of a negative number')\n",
    "except NegativeNumberError as err:\n",
    "    print(err)"
   ]
  }
 ],
 "metadata": {
  "kernelspec": {
   "display_name": "Python 3 (ipykernel)",
   "language": "python",
   "name": "python3"
  },
  "language_info": {
   "codemirror_mode": {
    "name": "ipython",
    "version": 3
   },
   "file_extension": ".py",
   "mimetype": "text/x-python",
   "name": "python",
   "nbconvert_exporter": "python",
   "pygments_lexer": "ipython3",
   "version": "3.12.7"
  }
 },
 "nbformat": 4,
 "nbformat_minor": 4
}
