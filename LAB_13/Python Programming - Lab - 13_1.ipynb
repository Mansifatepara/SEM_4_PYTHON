{
 "cells": [
  {
   "cell_type": "markdown",
   "metadata": {},
   "source": [
    "<a href='https://www.darshan.ac.in/'> <img src='https://www.darshan.ac.in/Content/media/DU_Logo.svg' width=\"250\" height=\"300\"/></a>\n",
    "<pre>\n",
    "<center><b><h1>Python Programming - 2301CS404</b></center>\n",
    "<center><b><h1>Lab - 13</b></center>\n",
    "<center><b><h1>Mansi Fatepara | 23010101079 | 05/03/2025</b></center>\n",
    "<pre>"
   ]
  },
  {
   "cell_type": "markdown",
   "metadata": {},
   "source": [
    "# OOP"
   ]
  },
  {
   "cell_type": "markdown",
   "metadata": {},
   "source": [
    "### 01) Write a Program to create a class by name Students, and initialize attributes like name, age, and grade while creating an object."
   ]
  },
  {
   "cell_type": "code",
   "execution_count": 16,
   "metadata": {},
   "outputs": [
    {
     "name": "stdout",
     "output_type": "stream",
     "text": [
      "mansi\n",
      "19\n",
      "A+\n"
     ]
    }
   ],
   "source": [
    "class Student:\n",
    "    def __init__(self,name,age,grade):\n",
    "        self.name = name\n",
    "        self.age = age\n",
    "        self.grade = grade\n",
    "\n",
    "ob = Student('mansi',19,'A+')\n",
    "print(ob.name)\n",
    "print(ob.age)\n",
    "print(ob.grade)"
   ]
  },
  {
   "cell_type": "markdown",
   "metadata": {},
   "source": [
    "### 02) Create a class named Bank_Account with Account_No, User_Name, Email,Account_Type and Account_Balance data members. Also create a method GetAccountDetails() and DisplayAccountDetails(). Create main method to demonstrate the Bank_Account class."
   ]
  },
  {
   "cell_type": "code",
   "execution_count": 7,
   "metadata": {},
   "outputs": [
    {
     "name": "stdin",
     "output_type": "stream",
     "text": [
      "Enter your account number:  101\n",
      "Enter your name:  masni\n",
      "Enter your email:  masni@gmail.com\n",
      "Enter your account type:  salary\n",
      "Enter your account balance:  1230000\n"
     ]
    },
    {
     "name": "stdout",
     "output_type": "stream",
     "text": [
      "Account_number:  101\n",
      "User_name:  masni\n",
      "Email:  masni@gmail.com\n",
      "Account_type:  salary\n",
      "Account_balance:  1230000\n"
     ]
    }
   ],
   "source": [
    "class Bank_Account:\n",
    "    def __init__(self):\n",
    "        pass\n",
    "\n",
    "    def GetAccountDetails(self):\n",
    "        self.AcNo = int(input('Enter your account number: '))\n",
    "        self.uname = input('Enter your name: ')\n",
    "        self.email = input('Enter your email: ')\n",
    "        self.AcType = input('Enter your account type: ')\n",
    "        self.AcBalance = int(input('Enter your account balance: '))\n",
    "        # print('Account_number: ',AcNo)\n",
    "        # print('User_name: ',uname)\n",
    "        # print('Email: ',email)\n",
    "        # print('Account_type: ',AcType)\n",
    "        # print('Account_balance: ',AcBalance)\n",
    "\n",
    "    def DisplayAccountDetails(self):\n",
    "        print('Account_number: ',self.AcNo)\n",
    "        print('User_name: ',self.uname)\n",
    "        print('Email: ',self.email)\n",
    "        print('Account_type: ',self.AcType)\n",
    "        print('Account_balance: ',self.AcBalance)\n",
    "\n",
    "ac = Bank_Account()\n",
    "ac.GetAccountDetails()\n",
    "ac.DisplayAccountDetails()"
   ]
  },
  {
   "cell_type": "markdown",
   "metadata": {},
   "source": [
    "### 03) WAP to create Circle class with area and perimeter function to find area and perimeter of circle."
   ]
  },
  {
   "cell_type": "code",
   "execution_count": 11,
   "metadata": {},
   "outputs": [
    {
     "name": "stdout",
     "output_type": "stream",
     "text": [
      "Area of the given radius of the circle:  3.14\n",
      "Perimeter of the given radius of the circle:  6.28\n"
     ]
    }
   ],
   "source": [
    "class Circle:\n",
    "    area = 0\n",
    "    perimeter = 0\n",
    "    def __init__(self,radius):\n",
    "        self.radius = radius\n",
    "\n",
    "    def findArea(self):\n",
    "        area = 3.14*self.radius*self.radius\n",
    "        print('Area of the given radius of the circle: ',area)\n",
    "\n",
    "    def findPerimeter(self):\n",
    "        perimeter = 2*3.14*self.radius\n",
    "        print('Perimeter of the given radius of the circle: ',perimeter)\n",
    "\n",
    "c1 = Circle(1)\n",
    "c1.findArea()\n",
    "c1.findPerimeter()"
   ]
  },
  {
   "cell_type": "markdown",
   "metadata": {},
   "source": [
    "### 04) Create a class for employees that includes attributes such as name, age, salary, and methods to update and display employee information."
   ]
  },
  {
   "cell_type": "code",
   "execution_count": 37,
   "metadata": {},
   "outputs": [
    {
     "name": "stdout",
     "output_type": "stream",
     "text": [
      "Your Name:  Mansi\n",
      "Your Age:  30\n",
      "YOur Salary:  500000\n",
      "\n",
      "Updating Employee Information...\n",
      "\n",
      "Your Name:  janvi\n",
      "Your Age:  30\n",
      "YOur Salary:  500000\n"
     ]
    }
   ],
   "source": [
    "class Employee:\n",
    "    def __init__(self,name,age,salary):\n",
    "        self.name = name\n",
    "        self.age = age\n",
    "        self.salary = salary\n",
    "        \n",
    "    def displayData(self):\n",
    "        print('Your Name: ',self.name)\n",
    "        print('Your Age: ',self.age)\n",
    "        print('YOur Salary: ',self.salary)\n",
    "\n",
    "    def updateData(self,name=None,age=None,salary=None):\n",
    "        if name:\n",
    "            self.name = name\n",
    "        elif age:\n",
    "            self.age = age\n",
    "        else:\n",
    "            self.salary = salary\n",
    "\n",
    "emp1 = Employee(\"Mansi\",30,500000)\n",
    "emp1.displayData()\n",
    "print(\"\\nUpdating Employee Information...\\n\")\n",
    "emp1.updateData(name='janvi',salary=55000)\n",
    "emp1.displayData()"
   ]
  },
  {
   "cell_type": "markdown",
   "metadata": {},
   "source": [
    "### 05) Create a bank account class with methods to deposit, withdraw, and check balance."
   ]
  },
  {
   "cell_type": "code",
   "execution_count": 57,
   "metadata": {},
   "outputs": [
    {
     "name": "stdout",
     "output_type": "stream",
     "text": [
      "You Deposit 2000 in your account\n",
      "You withdraw 1000 from your account\n",
      "now your balance in your account is:  11000\n"
     ]
    }
   ],
   "source": [
    "class Bank_Account:\n",
    "    name = ''\n",
    "    account_opening_balance = 0\n",
    "\n",
    "    def __init__(self,name,account_opening_balance,):\n",
    "        self.name = name\n",
    "        self.opbal = account_opening_balance\n",
    "\n",
    "    def deposit(self,money):\n",
    "        self.opbal = money + self.opbal\n",
    "        print('You Deposit',money,'in your account')\n",
    "\n",
    "    def withdraw(self,money):\n",
    "        if(self.opbal<money):\n",
    "            print('Insufficient balance please try again!')\n",
    "        else:\n",
    "            self.opbal = self.opbal - money\n",
    "            print('You withdraw',money,'from your account')\n",
    "\n",
    "    def checkBalance(self):\n",
    "        print('now your balance in your account is: ',self.opbal)\n",
    "\n",
    "ac1 = Bank_Account('mansi',10000)\n",
    "ac1.deposit(2000)\n",
    "ac1.withdraw(1000)\n",
    "ac1.checkBalance()"
   ]
  },
  {
   "cell_type": "markdown",
   "metadata": {},
   "source": [
    "### 06) Create a class for managing inventory that includes attributes such as item name, price, quantity, and methods to add, remove, and update items."
   ]
  },
  {
   "cell_type": "code",
   "execution_count": null,
   "metadata": {},
   "outputs": [],
   "source": []
  },
  {
   "cell_type": "code",
   "execution_count": 75,
   "metadata": {},
   "outputs": [
    {
     "name": "stdout",
     "output_type": "stream",
     "text": [
      "-----------After Add--------------\n",
      "\n"
     ]
    },
    {
     "name": "stdin",
     "output_type": "stream",
     "text": [
      "Enter item name:  laptop\n",
      "Enter item price:  20000\n",
      "Enter a quantity of your item:  5\n"
     ]
    },
    {
     "name": "stdout",
     "output_type": "stream",
     "text": [
      "Item name is:  laptop\n",
      "Item price is:  20000.0\n",
      "Quantity of item is:  5\n",
      "\n",
      "-----------After Update----------\n",
      "\n",
      "Item name is:  phone\n",
      "Item price is:  20000.0\n",
      "Quantity of item is:  3\n",
      "\n",
      "----------After Delete----------\n",
      "\n",
      "Item name is:  None\n",
      "Item price is:  None\n",
      "Quantity of item is:  None\n"
     ]
    }
   ],
   "source": [
    "class Manage_Inventory:\n",
    "    def __init__(self):\n",
    "        pass\n",
    "        \n",
    "    def addItem(self):\n",
    "        self.name = input('Enter item name: ')\n",
    "        self.price = float(input('Enter item price: '))\n",
    "        self.quantity = int(input('Enter a quantity of your item: '))\n",
    "\n",
    "    def displayItem(self):\n",
    "        print('Item name is: ',self.name)\n",
    "        print('Item price is: ',self.price)\n",
    "        print('Quantity of item is: ',self.quantity)\n",
    "\n",
    "    def updateItem(self,name=None,price=None,quantity=None):\n",
    "        if name:\n",
    "            self.name = name\n",
    "        if price:\n",
    "            self.price = price\n",
    "        if quantity:\n",
    "            self.quantity = quantity\n",
    "\n",
    "    def deleteItem(self):\n",
    "        self.name = None\n",
    "        self.price = None\n",
    "        self.quantity = None\n",
    "\n",
    "item1 = Manage_Inventory()\n",
    "print('-----------After Add--------------\\n')\n",
    "item1.addItem()\n",
    "item1.displayItem()\n",
    "print('\\n-----------After Update----------\\n')\n",
    "item1.updateItem(name='phone',quantity=3)\n",
    "item1.displayItem()\n",
    "print('\\n----------After Delete----------\\n')\n",
    "item1.deleteItem()\n",
    "item1.displayItem()"
   ]
  },
  {
   "cell_type": "markdown",
   "metadata": {},
   "source": [
    "### 07) Create a Class with instance attributes of your choice."
   ]
  },
  {
   "cell_type": "code",
   "execution_count": 87,
   "metadata": {},
   "outputs": [
    {
     "name": "stdout",
     "output_type": "stream",
     "text": [
      "Your Name is:  Mansi Fatepara\n",
      "Your eno is:  23010101079\n",
      "Your age is:  19\n"
     ]
    }
   ],
   "source": [
    "class Student:\n",
    "    def __init__(self,name,eno,age):\n",
    "        self.name = name\n",
    "        self.eno =eno\n",
    "        self.age = age\n",
    "\n",
    "s1=Student('Mansi Fatepara',23010101079,19)\n",
    "print('Your Name is: ',s1.name)\n",
    "print('Your eno is: ',s1.eno)\n",
    "print('Your age is: ',s1.age)"
   ]
  },
  {
   "cell_type": "markdown",
   "metadata": {},
   "source": [
    "### 08) Create one class student_kit\n",
    "#### Within the student_kit class create one class attribute principal name ( Mr ABC )\n",
    "#### Create one attendance method and take input as number of days.\n",
    "#### While creating student take input their name .\n",
    "#### Create one certificate for each student by taking input of number of days present in class."
   ]
  },
  {
   "cell_type": "code",
   "execution_count": 89,
   "metadata": {},
   "outputs": [
    {
     "name": "stdin",
     "output_type": "stream",
     "text": [
      "Enter Student Name:  Mansi Fatepara\n",
      "Enter number of days present:  120\n"
     ]
    },
    {
     "name": "stdout",
     "output_type": "stream",
     "text": [
      "\n",
      "----- Attendance Certificate -----\n",
      "Principal: Mr ABC\n",
      "Student Name: Mansi Fatepara\n",
      "Days Present: 120\n",
      "Congratulations on your attendance!\n",
      "\n"
     ]
    }
   ],
   "source": [
    "class StudentKit:\n",
    "    principal_name = \"Mr ABC\"  # Class attribute\n",
    "\n",
    "    def __init__(self, student_name):\n",
    "        self.student_name = student_name\n",
    "        self.attendance_days = 0\n",
    "\n",
    "    def mark_attendance(self, days):\n",
    "        self.attendance_days = days\n",
    "\n",
    "    def generate_certificate(self):\n",
    "        print(\"\\n----- Attendance Certificate -----\")\n",
    "        print(f\"Principal: {StudentKit.principal_name}\")\n",
    "        print(f\"Student Name: {self.student_name}\")\n",
    "        print(f\"Days Present: {self.attendance_days}\")\n",
    "        print(\"Congratulations on your attendance!\\n\")\n",
    "\n",
    "# Example Usage\n",
    "student1 = StudentKit(input(\"Enter Student Name: \"))\n",
    "days_present = int(input(\"Enter number of days present: \"))\n",
    "student1.mark_attendance(days_present)\n",
    "student1.generate_certificate()"
   ]
  },
  {
   "cell_type": "markdown",
   "metadata": {},
   "source": [
    "### 09) Define Time class with hour and minute as data member. Also define addition method to add two time objects."
   ]
  },
  {
   "cell_type": "code",
   "execution_count": 99,
   "metadata": {},
   "outputs": [
    {
     "name": "stdout",
     "output_type": "stream",
     "text": [
      "4 4\n",
      "t1 time is:  None\n",
      "3 2\n",
      "t2 time is:  None\n",
      "7 6\n",
      "t3 time is:  None\n"
     ]
    }
   ],
   "source": [
    "class Time:\n",
    "    # constructor\n",
    "    def __init__(self,h,m):\n",
    "        self.h = h\n",
    "        self.m = m\n",
    "\n",
    "    #add two time object\n",
    "    def addTime(self,t1,t2):\n",
    "        self.h = t1.h+t2.h\n",
    "        self.m = t1.m+t2.m\n",
    "\n",
    "    #display time\n",
    "    def displayTime(self):\n",
    "        print(self.h,self.m)\n",
    "\n",
    "t1 = Time(4,4)\n",
    "t2 = Time(3,2)\n",
    "t3 = Time(0,0)\n",
    "\n",
    "t3.addTime(t1,t2)\n",
    "t1.displayTime()\n",
    "t2.displayTime()\n",
    "t3.displayTime()"
   ]
  }
 ],
 "metadata": {
  "kernelspec": {
   "display_name": "Python 3 (ipykernel)",
   "language": "python",
   "name": "python3"
  },
  "language_info": {
   "codemirror_mode": {
    "name": "ipython",
    "version": 3
   },
   "file_extension": ".py",
   "mimetype": "text/x-python",
   "name": "python",
   "nbconvert_exporter": "python",
   "pygments_lexer": "ipython3",
   "version": "3.12.7"
  }
 },
 "nbformat": 4,
 "nbformat_minor": 4
}
