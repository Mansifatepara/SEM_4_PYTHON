{
 "cells": [
  {
   "cell_type": "markdown",
   "metadata": {},
   "source": [
    "\n",
    "<a href='https://www.darshan.ac.in/'> <img src='https://www.darshan.ac.in/Content/media/DU_Logo.svg' width=\"250\" height=\"300\"/></a>\n",
    "<pre>\n",
    "<center><b><h1>Python Programming - 2301CS404</b></center>\n",
    "<center><b><h1>Lab - 2</b></center>\n",
    "<center><b><h1>Mansi Fatepara | 23010101079 | 27/11/2024</b></center>\n",
    "<pre>"
   ]
  },
  {
   "cell_type": "markdown",
   "metadata": {},
   "source": [
    "# if..else.."
   ]
  },
  {
   "cell_type": "markdown",
   "metadata": {},
   "source": [
    "### 01) WAP to check whether the given number is positive or negative."
   ]
  },
  {
   "cell_type": "code",
   "execution_count": 3,
   "metadata": {},
   "outputs": [
    {
     "name": "stdin",
     "output_type": "stream",
     "text": [
      "Enter a number : -1\n"
     ]
    },
    {
     "name": "stdout",
     "output_type": "stream",
     "text": [
      "Num is Negative!\n"
     ]
    }
   ],
   "source": [
    "n = int(input(\"Enter a number :\"))\n",
    "if(n>=0):\n",
    "    print(\"Num is Positive!\")\n",
    "else:\n",
    "    print(\"Num is Negative!\")"
   ]
  },
  {
   "cell_type": "markdown",
   "metadata": {},
   "source": [
    "### 02) WAP to check whether the given number is odd or even."
   ]
  },
  {
   "cell_type": "code",
   "execution_count": 7,
   "metadata": {},
   "outputs": [
    {
     "name": "stdin",
     "output_type": "stream",
     "text": [
      "Enter a number : 5\n"
     ]
    },
    {
     "name": "stdout",
     "output_type": "stream",
     "text": [
      "Num is Odd!\n"
     ]
    }
   ],
   "source": [
    "n = int(input(\"Enter a number :\"))\n",
    "if(n%2==0):\n",
    "    print(\"Num is Even!\")\n",
    "else:\n",
    "    print(\"Num is Odd!\")"
   ]
  },
  {
   "cell_type": "markdown",
   "metadata": {},
   "source": [
    "### 03) WAP to find out largest number from given two numbers using simple if and ternary operator."
   ]
  },
  {
   "cell_type": "code",
   "execution_count": 23,
   "metadata": {},
   "outputs": [
    {
     "name": "stdin",
     "output_type": "stream",
     "text": [
      "Enter a num1 : 4\n",
      "Enter a num2 : 1\n"
     ]
    },
    {
     "name": "stdout",
     "output_type": "stream",
     "text": [
      "n1 is largest!\n"
     ]
    }
   ],
   "source": [
    "#Using Simple If\n",
    "n1 = int(input(\"Enter a num1 :\"))\n",
    "n2 = int(input(\"Enter a num2 :\"))\n",
    "# if(n1>n2):\n",
    "#     print(\"n1 is largest!\")\n",
    "# else:\n",
    "#     print(\"n2 is largest!\")\n",
    "\n",
    "#using ternary operator\n",
    "print(\"n1 is largest!\") if(n1>n2) else print(\"n2 is largest!\")"
   ]
  },
  {
   "cell_type": "markdown",
   "metadata": {},
   "source": [
    "### 04) WAP to find out largest number from given three numbers."
   ]
  },
  {
   "cell_type": "code",
   "execution_count": null,
   "metadata": {},
   "outputs": [],
   "source": [
    "n1 = int(input(\"Enter a num1 :\"))\n",
    "n2 = int(input(\"Enter a num2 :\"))\n",
    "n3 = int(input(\"Enter a num3 :\"))\n",
    "if(n1>n2):\n",
    "    if(n1>n3):\n",
    "        print(\"n1 is largest!\")\n",
    "    else:\n",
    "        print(\"n3 is largest!\")\n",
    "else:\n",
    "    if(n2>n3):\n",
    "        print(\"n2 is largest!\")\n",
    "    else:\n",
    "        print(\"n3 is largest!\")"
   ]
  },
  {
   "cell_type": "markdown",
   "metadata": {},
   "source": [
    "### 05) WAP to check whether the given year is leap year or not.\n",
    "[If a year can be divisible by 4 but not divisible by 100 then it is leap year but if it is divisible by 400 then it is leap year]"
   ]
  },
  {
   "cell_type": "code",
   "execution_count": 33,
   "metadata": {},
   "outputs": [
    {
     "name": "stdin",
     "output_type": "stream",
     "text": [
      "Enter a Year To check leap or not : 2021\n"
     ]
    },
    {
     "name": "stdout",
     "output_type": "stream",
     "text": [
      "given year is not leap year!\n"
     ]
    }
   ],
   "source": [
    "y = int(input(\"Enter a Year To check leap or not :\"))\n",
    "if(y%4==0 and y%100!=0 or y%400==0):\n",
    "    print(\"given year is leap year\")\n",
    "else:\n",
    "    print(\"given year is not leap year!\")"
   ]
  },
  {
   "cell_type": "markdown",
   "metadata": {},
   "source": [
    "### 06) WAP in python to display the name of the day according to the number given by the user."
   ]
  },
  {
   "cell_type": "markdown",
   "metadata": {},
   "source": [
    "### 07) WAP to implement simple calculator which performs (add,sub,mul,div) of two no. based on user input."
   ]
  },
  {
   "cell_type": "code",
   "execution_count": 1,
   "metadata": {},
   "outputs": [
    {
     "name": "stdin",
     "output_type": "stream",
     "text": [
      "Enter a num1 : 3\n",
      "Enter a num2 : 4\n"
     ]
    },
    {
     "name": "stdout",
     "output_type": "stream",
     "text": [
      "Enter 1 for perform sum: \n",
      "Enter 2 for perform sub: \n",
      "Enter 3 for perform mul: \n",
      "Enter 4 for perform div: \n"
     ]
    },
    {
     "name": "stdin",
     "output_type": "stream",
     "text": [
      "Enter a number to perform below operation : 1\n"
     ]
    },
    {
     "name": "stdout",
     "output_type": "stream",
     "text": [
      "7\n"
     ]
    }
   ],
   "source": [
    "n1 = int(input(\"Enter a num1 :\"))\n",
    "n2 = int(input(\"Enter a num2 :\"))\n",
    "print(\"Enter 1 for perform sum: \")\n",
    "print(\"Enter 2 for perform sub: \")\n",
    "print(\"Enter 3 for perform mul: \")\n",
    "print(\"Enter 4 for perform div: \")\n",
    "p = int(input(\"Enter a number to perform below operation :\"))\n",
    "if(p==1):\n",
    "    print(n1+n2)\n",
    "elif(p==2):\n",
    "    print(n1-n2)\n",
    "elif(p==3):\n",
    "    print(n1*n2)\n",
    "elif(p==4):\n",
    "    print(n1//n2)\n",
    "else:\n",
    "    print(\"Enter a valid choice!!\")"
   ]
  },
  {
   "cell_type": "markdown",
   "metadata": {},
   "source": [
    "### 08) WAP to read marks of five subjects. Calculate percentage and print class accordingly. \n",
    "Fail below 35 </br>\n",
    "Pass Class between 35 to 45 </br>\n",
    "Second Class</br>\n",
    "between 45 to 60</br>\n",
    "First Class between 60 to 70</br> \n",
    "Distinction if more than 70"
   ]
  },
  {
   "cell_type": "code",
   "execution_count": 21,
   "metadata": {},
   "outputs": [
    {
     "name": "stdin",
     "output_type": "stream",
     "text": [
      "Enter a marks of sub1 : 90\n",
      "Enter a marks of sub2 : 80\n",
      "Enter a marks of sub3 : 90\n",
      "Enter a marks of sub4 : 80\n",
      "Enter a marks of sub5 : 90\n"
     ]
    },
    {
     "name": "stdout",
     "output_type": "stream",
     "text": [
      "86.0 %\n",
      "Ohh yeahhh!! U've Distinct class\n"
     ]
    }
   ],
   "source": [
    "total = 500\n",
    "m1 = float(input(\"Enter a marks of sub1 :\"))\n",
    "m2 = float(input(\"Enter a marks of sub2 :\"))\n",
    "m3 = float(input(\"Enter a marks of sub3 :\"))\n",
    "m4 = float(input(\"Enter a marks of sub4 :\"))\n",
    "m5 = float(input(\"Enter a marks of sub5 :\"))\n",
    "sum = m1+m2+m3+m4+m5\n",
    "per = (sum*100)//total\n",
    "print(per,\"%\")\n",
    "\n",
    "if(per<35):\n",
    "    print(\"Oops!! FAIL!!\")\n",
    "elif(per>=35 and per<45):\n",
    "    print(\"Yup! PASS CLASS!\")\n",
    "elif(per>=45 and per<60):\n",
    "    print(\"Yeah! SECOND CLASS!\")\n",
    "elif(per>=60 and per<70):\n",
    "    print(\"Ohh wow!! FIRST CLASS!\")\n",
    "elif(per>=70):\n",
    "    print(\"Ohh yeahhh!! U've Distinct class\")\n",
    "else:\n",
    "    print(\"enter a valid marks!!\")"
   ]
  },
  {
   "cell_type": "markdown",
   "metadata": {},
   "source": [
    "### 09) Three sides of a triangle are entered through the keyboard, WAP to check whether the triangle is isosceles, equilateral, scalene or right-angled triangle."
   ]
  },
  {
   "cell_type": "code",
   "execution_count": 52,
   "metadata": {},
   "outputs": [
    {
     "name": "stdin",
     "output_type": "stream",
     "text": [
      "Enter side 1 of triangle : 3\n",
      "Enter side 2 of triangle : 4\n",
      "Enter side 3 of triangle : 5\n"
     ]
    },
    {
     "name": "stdout",
     "output_type": "stream",
     "text": [
      "Triangle is Scalen!\n",
      "Triangle is Right-Angle!\n"
     ]
    }
   ],
   "source": [
    "import math\n",
    "s1 = float(input(\"Enter side 1 of triangle :\"))\n",
    "s2 = float(input(\"Enter side 2 of triangle :\"))\n",
    "s3 = float(input(\"Enter side 3 of triangle :\"))\n",
    "if(s1==s2 and s2==s3):\n",
    "    print(\"Triangle is Equilateral!\")\n",
    "elif(s1==s2 or s2==s3 or s3==s1):\n",
    "    print(\"Triangle is Isosceles!\")\n",
    "elif(s1!=s2 and s2!=s3 and s3!=s1):\n",
    "    print(\"Triangle is Scalen!\")\n",
    "power = (math.pow(s1,2)+math.pow(s2,2)==math.pow(s3,2) or math.pow(s2,2)+math.pow(s3,2)==math.pow(s1,2) or math.pow(s1,2)+math.pow(s3,2)==math.pow(s2,2))\n",
    "if(power):\n",
    "    print(\"Triangle is Right-Angle!\")"
   ]
  },
  {
   "cell_type": "markdown",
   "metadata": {},
   "source": [
    "### 10) WAP to find the second largest number among three user input numbers."
   ]
  },
  {
   "cell_type": "code",
   "execution_count": 13,
   "metadata": {},
   "outputs": [
    {
     "name": "stdin",
     "output_type": "stream",
     "text": [
      "Enter a num1 : 2\n",
      "Enter a num2 : 4\n",
      "Enter a num3 : 3\n"
     ]
    },
    {
     "name": "stdout",
     "output_type": "stream",
     "text": [
      "n3 is second largest!\n"
     ]
    }
   ],
   "source": [
    "n1 = int(input(\"Enter a num1 :\"))\n",
    "n2 = int(input(\"Enter a num2 :\"))\n",
    "n3 = int(input(\"Enter a num3 :\"))\n",
    "if(n1>n2 and n1>n3):\n",
    "    if(n2>n3):\n",
    "        print(\"n2 is second largest!\")\n",
    "    else:\n",
    "        print(\"n3 is second largest!\")\n",
    "elif(n2>n3 and n2>n1):\n",
    "    if(n3>n1):\n",
    "        print(\"n3 is second largest!\")\n",
    "    else:\n",
    "        print(\"n1 is second largest!\")\n",
    "elif(n1>n2):\n",
    "    print(\"n1 is second largest!\")\n",
    "else:\n",
    "    print(\"n2 is second largest!\")"
   ]
  },
  {
   "cell_type": "markdown",
   "metadata": {},
   "source": [
    "### 11) WAP to calculate electricity bill based on following criteria. Which takes the unit from the user.\n",
    "a. First 1 to 50 units – Rs. 2.60/unit</br>\n",
    "b. Next 50 to 100 units – Rs. 3.25/unit</br>\n",
    "c. Next 100 to 200 units – Rs. 5.26/unit</br>\n",
    "d. above 200 units – Rs. 8.45/unit"
   ]
  },
  {
   "cell_type": "code",
   "execution_count": null,
   "metadata": {},
   "outputs": [],
   "source": [
    "u = float(input(\"Enter a unit for calculate electricity :\"))"
   ]
  }
 ],
 "metadata": {
  "kernelspec": {
   "display_name": "Python 3 (ipykernel)",
   "language": "python",
   "name": "python3"
  },
  "language_info": {
   "codemirror_mode": {
    "name": "ipython",
    "version": 3
   },
   "file_extension": ".py",
   "mimetype": "text/x-python",
   "name": "python",
   "nbconvert_exporter": "python",
   "pygments_lexer": "ipython3",
   "version": "3.12.7"
  }
 },
 "nbformat": 4,
 "nbformat_minor": 4
}
