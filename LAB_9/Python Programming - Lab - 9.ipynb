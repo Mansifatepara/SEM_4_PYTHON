{
 "cells": [
  {
   "cell_type": "markdown",
   "metadata": {},
   "source": [
    "<a href='https://www.darshan.ac.in/'> <img src='https://www.darshan.ac.in/Content/media/DU_Logo.svg' width=\"250\" height=\"300\"/></a>\n",
    "<pre>\n",
    "<center><b><h1>Python Programming - 2301CS404</b></center>\n",
    "<center><b><h1>Lab - 9</b></center>\n",
    "<center><b><h1>Mansi Fatepara | 23010101079 | 29/01/2025</b></center>\n",
    "<pre>"
   ]
  },
  {
   "cell_type": "markdown",
   "metadata": {},
   "source": [
    "# File I/O"
   ]
  },
  {
   "cell_type": "markdown",
   "metadata": {},
   "source": [
    "### 01) WAP to read and display the contents of a text file. (also try to open the file in some other directory) \n",
    "#### - in the form of a string\n",
    "#### - line by line\n",
    "#### - in the form of a list"
   ]
  },
  {
   "cell_type": "code",
   "execution_count": 10,
   "metadata": {},
   "outputs": [
    {
     "name": "stdout",
     "output_type": "stream",
     "text": [
      "The beauty of nature lies in its ability to inspire and heal.\n",
      "From the gentle rustling of leaves in the wind to the rhythmic crashing of waves on the shore, every element of nature tells a story.\n",
      "The colors of a sunset, the fragrance of blooming flowers, and the serenity of a quiet forest bring peace to the mind and soul.\n",
      "In a world filled with chaos, nature serves as a reminder to pause, breathe, and appreciate the simple joys of life.\n",
      "The beauty of nature lies in its ability to inspire and heal.\n",
      "\n",
      "['The beauty of nature lies in its ability to inspire and heal.\\n', 'From the gentle rustling of leaves in the wind to the rhythmic crashing of waves on the shore, every element of nature tells a story.\\n', 'The colors of a sunset, the fragrance of blooming flowers, and the serenity of a quiet forest bring peace to the mind and soul.\\n', 'In a world filled with chaos, nature serves as a reminder to pause, breathe, and appreciate the simple joys of life.']\n"
     ]
    }
   ],
   "source": [
    "#in the form of a string\n",
    "fp = open('abc.txt','r')\n",
    "print(fp.read())\n",
    "fp.close()\n",
    "\n",
    "#line by line\n",
    "fp = open('abc.txt','r')\n",
    "print(fp.readline())\n",
    "fp.close()\n",
    "\n",
    "#in the form of a list\n",
    "fp = open('abc.txt','r')\n",
    "print(fp.readlines())\n",
    "fp.close()"
   ]
  },
  {
   "cell_type": "markdown",
   "metadata": {},
   "source": [
    "### 02) WAP to create file named \"new.txt\" only if it doesn't exist."
   ]
  },
  {
   "cell_type": "code",
   "execution_count": 14,
   "metadata": {},
   "outputs": [
    {
     "name": "stdout",
     "output_type": "stream",
     "text": [
      "5\n"
     ]
    }
   ],
   "source": [
    "fp = open('new.txt','w')\n",
    "print(fp.write('hello'))\n",
    "fp.close()"
   ]
  },
  {
   "cell_type": "markdown",
   "metadata": {},
   "source": [
    "### 03) WAP to read first 5 lines from the text file."
   ]
  },
  {
   "cell_type": "code",
   "execution_count": 30,
   "metadata": {},
   "outputs": [
    {
     "name": "stdout",
     "output_type": "stream",
     "text": [
      "The beauty of nature lies in its ability to inspire and heal.\n",
      "\n",
      "From the gentle rustling of leaves in the wind to the rhythmic crashing of waves on the shore,\n",
      "\n",
      "every element of nature tells a story.\n",
      "\n",
      "The colors of a sunset, the fragrance of blooming flowers,\n",
      "\n",
      "and the serenity of a quiet forest bring peace to the mind and soul.\n",
      "\n"
     ]
    }
   ],
   "source": [
    "fp = open('abc.txt','r')\n",
    "for i in range(0,5):\n",
    "    print(fp.readline())\n",
    "fp.close()"
   ]
  },
  {
   "cell_type": "markdown",
   "metadata": {},
   "source": [
    "### 04) WAP to find the longest word(s) in a file"
   ]
  },
  {
   "cell_type": "code",
   "execution_count": 70,
   "metadata": {},
   "outputs": [
    {
     "name": "stdout",
     "output_type": "stream",
     "text": [
      "longest word is:  appreciate\n",
      "length of longest word is:  10\n"
     ]
    }
   ],
   "source": [
    "fp = open('abc.txt','r')\n",
    "long_word = []\n",
    "max_len = 0\n",
    "fp_list = fp.read().split()\n",
    "for word in fp_list:\n",
    "    if len(word) > max_len:\n",
    "        max_len = len(word)\n",
    "        long_word = [word]\n",
    "    elif len(word)==max_len:\n",
    "        long_word.append(word)\n",
    "for word in long_word:\n",
    "    print('longest word is: ',word)\n",
    "    print('length of longest word is: ',len(word))\n",
    "fp.close()"
   ]
  },
  {
   "cell_type": "markdown",
   "metadata": {},
   "source": [
    "### 05) WAP to count the no. of lines, words and characters in a given text file."
   ]
  },
  {
   "cell_type": "code",
   "execution_count": 98,
   "metadata": {},
   "outputs": [
    {
     "name": "stdout",
     "output_type": "stream",
     "text": [
      "number of lines in file:  8\n",
      "number of words in file:  82\n",
      "number of characters in file:  440\n"
     ]
    }
   ],
   "source": [
    "# no of lines\n",
    "fp = open('abc.txt','r')\n",
    "no_of_line = len(fp.readlines())\n",
    "print('number of lines in file: ',no_of_line)\n",
    "fp.close()\n",
    "\n",
    "#no of words\n",
    "fp = open('abc.txt','r')\n",
    "fp_split = fp.read().split()\n",
    "print('number of words in file: ',len(fp_split))\n",
    "fp.close()\n",
    "\n",
    "# no of chracters\n",
    "fp = open('abc.txt','r')\n",
    "fp_char = fp.read()\n",
    "print('number of characters in file: ',len(fp_char))\n",
    "fp.close()"
   ]
  },
  {
   "cell_type": "markdown",
   "metadata": {},
   "source": [
    "### 06) WAP to copy the content of a file to the another file."
   ]
  },
  {
   "cell_type": "code",
   "execution_count": 102,
   "metadata": {},
   "outputs": [],
   "source": [
    "fp = open('abc.txt','r')\n",
    "fp_read = fp.read()\n",
    "# fp.close()\n",
    "fp = open('extra.txt','w')\n",
    "fp_write = fp.write(fp_read)\n",
    "fp.close()"
   ]
  },
  {
   "cell_type": "markdown",
   "metadata": {},
   "source": [
    "### 07) WAP to find the size of the text file. "
   ]
  },
  {
   "cell_type": "code",
   "execution_count": 108,
   "metadata": {},
   "outputs": [
    {
     "name": "stdout",
     "output_type": "stream",
     "text": [
      "size of file is:  440\n"
     ]
    }
   ],
   "source": [
    "# size of file = no of characters\n",
    "fp = open('abc.txt','r')\n",
    "fp_char = fp.read()\n",
    "print('size of file is: ',len(fp_char))\n",
    "fp.close()"
   ]
  },
  {
   "cell_type": "markdown",
   "metadata": {},
   "source": [
    "### 08) WAP to create an UDF named frequency to count occurances of the specific word in a given text file."
   ]
  },
  {
   "cell_type": "code",
   "execution_count": 29,
   "metadata": {},
   "outputs": [
    {
     "name": "stdin",
     "output_type": "stream",
     "text": [
      "Enter the word to count:  joys\n"
     ]
    },
    {
     "name": "stdout",
     "output_type": "stream",
     "text": [
      "The word appears 1 times in the file.\n"
     ]
    }
   ],
   "source": [
    "def frequency(word):\n",
    "    count = 0\n",
    "    fp = open(\"abc.txt\",\"r\")\n",
    "    for line in fp:\n",
    "        words = line.split()\n",
    "        count += words.count(word)\n",
    "    print(\"The word appears\",count,\"times in the file.\")\n",
    "\n",
    "word_to_find = input(\"Enter the word to count: \")\n",
    "frequency(word_to_find)"
   ]
  },
  {
   "cell_type": "markdown",
   "metadata": {},
   "source": [
    "### 09) WAP to get the score of five subjects from the user, store them in a file. Fetch those marks and find the highest score."
   ]
  },
  {
   "cell_type": "code",
   "execution_count": null,
   "metadata": {},
   "outputs": [],
   "source": []
  },
  {
   "cell_type": "markdown",
   "metadata": {},
   "source": [
    "### 10) WAP to write first 100 prime numbers to a file named primenumbers.txt \n",
    "(Note: each number should be in new line)"
   ]
  },
  {
   "cell_type": "code",
   "execution_count": null,
   "metadata": {},
   "outputs": [],
   "source": []
  },
  {
   "cell_type": "markdown",
   "metadata": {},
   "source": [
    "### 11) WAP to merge two files and write it in a new file."
   ]
  },
  {
   "cell_type": "code",
   "execution_count": null,
   "metadata": {},
   "outputs": [],
   "source": []
  },
  {
   "cell_type": "markdown",
   "metadata": {},
   "source": [
    "### 12) WAP to replace word1 by word2 of a text file. Write the updated data to new file."
   ]
  },
  {
   "cell_type": "code",
   "execution_count": null,
   "metadata": {},
   "outputs": [],
   "source": []
  },
  {
   "cell_type": "markdown",
   "metadata": {},
   "source": [
    "### 13) Demonstrate tell() and seek() for all the cases(seek from beginning-end-current position) taking a suitable example of your choice."
   ]
  },
  {
   "cell_type": "code",
   "execution_count": null,
   "metadata": {},
   "outputs": [],
   "source": []
  }
 ],
 "metadata": {
  "kernelspec": {
   "display_name": "Python 3 (ipykernel)",
   "language": "python",
   "name": "python3"
  },
  "language_info": {
   "codemirror_mode": {
    "name": "ipython",
    "version": 3
   },
   "file_extension": ".py",
   "mimetype": "text/x-python",
   "name": "python",
   "nbconvert_exporter": "python",
   "pygments_lexer": "ipython3",
   "version": "3.12.7"
  }
 },
 "nbformat": 4,
 "nbformat_minor": 4
}
