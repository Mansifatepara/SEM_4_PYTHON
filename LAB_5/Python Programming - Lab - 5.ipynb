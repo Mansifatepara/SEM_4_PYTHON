{
 "cells": [
  {
   "cell_type": "markdown",
   "metadata": {},
   "source": [
    "\n",
    "<a href='https://www.darshan.ac.in/'> <img src='https://www.darshan.ac.in/Content/media/DU_Logo.svg' width=\"250\" height=\"300\"/></a>\n",
    "<pre>\n",
    "<center><b><h1>Python Programming - 2301CS404</b></center>\n",
    "<center><b><h1>Lab - 5</b></center>\n",
    "<center><b><h1>Mansi Fatepara | 23010101079 | 01/01/2025</b></center>\n",
    "<pre>"
   ]
  },
  {
   "cell_type": "markdown",
   "metadata": {},
   "source": [
    "# List"
   ]
  },
  {
   "cell_type": "markdown",
   "metadata": {},
   "source": [
    "### 01) WAP to find sum of all the elements in a List."
   ]
  },
  {
   "cell_type": "code",
   "execution_count": 6,
   "metadata": {},
   "outputs": [
    {
     "name": "stdin",
     "output_type": "stream",
     "text": [
      "Enter  length of list:  4\n",
      "Enter a elements of list:  1\n",
      "Enter a elements of list:  2\n",
      "Enter a elements of list:  3\n",
      "Enter a elements of list:  4\n"
     ]
    },
    {
     "name": "stdout",
     "output_type": "stream",
     "text": [
      "[1, 2, 3, 4]\n",
      "sum of all elements:  10\n"
     ]
    }
   ],
   "source": [
    "li = []\n",
    "length = int(input(\"Enter  length of list: \"))\n",
    "for i in range(0,length):\n",
    "    ele = int(input(\"Enter a elements of list: \"))\n",
    "    li.append(ele)\n",
    "print(li)\n",
    "ans = sum(li)\n",
    "print(\"sum of all elements: \",ans)"
   ]
  },
  {
   "cell_type": "markdown",
   "metadata": {},
   "source": [
    "### 02) WAP to find largest element in a List."
   ]
  },
  {
   "cell_type": "code",
   "execution_count": 28,
   "metadata": {},
   "outputs": [
    {
     "name": "stdin",
     "output_type": "stream",
     "text": [
      "Enter  length of list:  3\n",
      "Enter a elements of list:  1\n",
      "Enter a elements of list:  2\n",
      "Enter a elements of list:  3\n"
     ]
    },
    {
     "name": "stdout",
     "output_type": "stream",
     "text": [
      "List is:  [1, 2, 3]\n",
      "Largest Element of given list is:  3\n"
     ]
    }
   ],
   "source": [
    "li = []\n",
    "ans = 0\n",
    "length = int(input(\"Enter  length of list: \"))\n",
    "for i in range(0,length):\n",
    "    ele = int(input(\"Enter a elements of list: \"))\n",
    "    li.append(ele)\n",
    "print(\"List is: \",li)\n",
    "for i in li:\n",
    "    for j in li:\n",
    "        if j > i:\n",
    "            ans = j\n",
    "print(\"Largest Element of given list is: \",ans)"
   ]
  },
  {
   "cell_type": "markdown",
   "metadata": {},
   "source": [
    "### 03) WAP to find the length of a List."
   ]
  },
  {
   "cell_type": "code",
   "execution_count": 49,
   "metadata": {},
   "outputs": [
    {
     "name": "stdin",
     "output_type": "stream",
     "text": [
      "Enter a elements of list:  1\n"
     ]
    },
    {
     "name": "stdout",
     "output_type": "stream",
     "text": [
      "Enter -1 for Break: \n"
     ]
    },
    {
     "name": "stdin",
     "output_type": "stream",
     "text": [
      "Enter a elements of list:  2\n"
     ]
    },
    {
     "name": "stdout",
     "output_type": "stream",
     "text": [
      "Enter -1 for Break: \n"
     ]
    },
    {
     "name": "stdin",
     "output_type": "stream",
     "text": [
      "Enter a elements of list:  3\n"
     ]
    },
    {
     "name": "stdout",
     "output_type": "stream",
     "text": [
      "Enter -1 for Break: \n"
     ]
    },
    {
     "name": "stdin",
     "output_type": "stream",
     "text": [
      "Enter a elements of list:  -1\n"
     ]
    },
    {
     "name": "stdout",
     "output_type": "stream",
     "text": [
      "Enter -1 for Break: \n",
      "List is:  [1, 2, 3]\n",
      "Length of list is:  3\n"
     ]
    }
   ],
   "source": [
    "# for static list\n",
    "# li = [1,2,3,4,5,6,7]\n",
    "# count = 0\n",
    "# for i in li:\n",
    "#     count += 1\n",
    "# print(\"Length of list is: \",count)\n",
    "\n",
    "li = []\n",
    "while True:\n",
    "    ele = int(input(\"Enter a elements of list: \"))\n",
    "    print(\"Enter -1 for Break: \")\n",
    "    if (ele==-1):\n",
    "        break\n",
    "    li.append(ele)\n",
    "print(\"List is: \",li)\n",
    "count = 0\n",
    "for i in li:\n",
    "    count += 1\n",
    "print(\"Length of list is: \",count)"
   ]
  },
  {
   "cell_type": "markdown",
   "metadata": {},
   "source": [
    "### 04) WAP to interchange first and last elements in a list."
   ]
  },
  {
   "cell_type": "code",
   "execution_count": 59,
   "metadata": {},
   "outputs": [
    {
     "name": "stdin",
     "output_type": "stream",
     "text": [
      "Enter  length of list:  3\n",
      "Enter a elements of list:  1\n",
      "Enter a elements of list:  2\n",
      "Enter a elements of list:  3\n"
     ]
    },
    {
     "name": "stdout",
     "output_type": "stream",
     "text": [
      "List is:  [1, 2, 3]\n",
      "Swapped List is:  [3, 2, 1]\n"
     ]
    }
   ],
   "source": [
    "li = []\n",
    "length = int(input(\"Enter  length of list: \"))\n",
    "for i in range(0,length):\n",
    "    ele = int(input(\"Enter a elements of list: \"))\n",
    "    li.append(ele)\n",
    "print(\"List is: \",li)\n",
    "temp = li[length-1]\n",
    "li[length-1]=li[0]\n",
    "li[0]=temp\n",
    "print(\"Swapped List is: \",li)"
   ]
  },
  {
   "cell_type": "markdown",
   "metadata": {},
   "source": [
    "### 05) WAP to split the List into two parts and append the first part to the end."
   ]
  },
  {
   "cell_type": "code",
   "execution_count": 75,
   "metadata": {},
   "outputs": [
    {
     "name": "stdin",
     "output_type": "stream",
     "text": [
      "Enter  length of list:  4\n",
      "Enter a elements of list:  3\n",
      "Enter a elements of list:  2\n",
      "Enter a elements of list:  6\n",
      "Enter a elements of list:  5\n"
     ]
    },
    {
     "name": "stdout",
     "output_type": "stream",
     "text": [
      "List is:  [3, 2, 6, 5]\n",
      "[3, 2]\n",
      "[6, 5]\n",
      "Splited List is:  [6, 5, 3, 2]\n"
     ]
    }
   ],
   "source": [
    "li = []\n",
    "l1 = []\n",
    "l2 = []\n",
    "length = int(input(\"Enter  length of list: \"))\n",
    "for i in range(0,length):\n",
    "    ele = int(input(\"Enter a elements of list: \"))\n",
    "    li.append(ele)\n",
    "print(\"List is: \",li)\n",
    "for i in range(0,int(length/2)):\n",
    "    l1.append(li[i])\n",
    "for j in range(int(length/2),length):\n",
    "    l2.append(li[j])\n",
    "print(l1)\n",
    "print(l2)\n",
    "sp = l2+l1 #concate two lists\n",
    "print(\"Splited List is: \",sp)"
   ]
  },
  {
   "cell_type": "markdown",
   "metadata": {},
   "source": [
    "### 06) WAP to interchange the elements on two positions entered by a user."
   ]
  },
  {
   "cell_type": "code",
   "execution_count": 77,
   "metadata": {},
   "outputs": [
    {
     "name": "stdin",
     "output_type": "stream",
     "text": [
      "Enter length of list:  4\n",
      "Enter a elements of list:  1\n",
      "Enter a elements of list:  3\n",
      "Enter a elements of list:  2\n",
      "Enter a elements of list:  4\n"
     ]
    },
    {
     "name": "stdout",
     "output_type": "stream",
     "text": [
      "List is:  [1, 3, 2, 4]\n"
     ]
    },
    {
     "name": "stdin",
     "output_type": "stream",
     "text": [
      "Enter a position 1:  2\n",
      "Enter a position 2:  3\n"
     ]
    },
    {
     "name": "stdout",
     "output_type": "stream",
     "text": [
      "[1, 3, 4, 2]\n"
     ]
    }
   ],
   "source": [
    "li = []\n",
    "length = int(input(\"Enter length of list: \"))\n",
    "for i in range(0,length):\n",
    "    ele = int(input(\"Enter a elements of list: \"))\n",
    "    li.append(ele)\n",
    "print(\"List is: \",li)\n",
    "p1 = int(input(\"Enter a position 1: \"))\n",
    "p2 = int(input(\"Enter a position 2: \"))\n",
    "temp = li[p1]\n",
    "li[p1]=li[p2]\n",
    "li[p2]=temp\n",
    "print(li)"
   ]
  },
  {
   "cell_type": "markdown",
   "metadata": {},
   "source": [
    "### 07) WAP to reverse the list entered by user."
   ]
  },
  {
   "cell_type": "code",
   "execution_count": 97,
   "metadata": {},
   "outputs": [
    {
     "name": "stdin",
     "output_type": "stream",
     "text": [
      "Enter length of list:  3\n",
      "Enter a elements of list:  3\n",
      "Enter a elements of list:  6\n",
      "Enter a elements of list:  8\n"
     ]
    },
    {
     "name": "stdout",
     "output_type": "stream",
     "text": [
      "List is:  [3, 6, 8]\n",
      "Reverse list is:  [8, 6, 3]\n"
     ]
    }
   ],
   "source": [
    "# use with reverse() method\n",
    "# li = []\n",
    "# length = int(input(\"Enter length of list: \"))\n",
    "# for i in range(0,length):\n",
    "#     ele = int(input(\"Enter a elements of list: \"))\n",
    "#     li.append(ele)\n",
    "# print(\"List is: \",li)\n",
    "# li.reverse()\n",
    "# print(li)\n",
    "\n",
    "# withour using reverse() method\n",
    "li = []\n",
    "l1 = []\n",
    "length = int(input(\"Enter length of list: \"))\n",
    "for i in range(0,length):\n",
    "    ele = int(input(\"Enter a elements of list: \"))\n",
    "    li.append(ele)\n",
    "print(\"List is: \",li)\n",
    "for i in range(length-1,-1,-1):\n",
    "    l1.append(li[i])\n",
    "print(\"Reverse list is: \",l1)"
   ]
  },
  {
   "cell_type": "markdown",
   "metadata": {},
   "source": [
    "### 08) WAP to print even numbers in a list."
   ]
  },
  {
   "cell_type": "code",
   "execution_count": 101,
   "metadata": {},
   "outputs": [
    {
     "name": "stdin",
     "output_type": "stream",
     "text": [
      "Enter length of list:  4\n",
      "Enter a elements of list:  2\n",
      "Enter a elements of list:  6\n",
      "Enter a elements of list:  3\n",
      "Enter a elements of list:  7\n"
     ]
    },
    {
     "name": "stdout",
     "output_type": "stream",
     "text": [
      "List is:  [2, 6, 3, 7]\n",
      "Even number list is:  [2, 6]\n"
     ]
    }
   ],
   "source": [
    "li = []\n",
    "l1 = []\n",
    "length = int(input(\"Enter length of list: \"))\n",
    "for i in range(0,length):\n",
    "    ele = int(input(\"Enter a elements of list: \"))\n",
    "    li.append(ele)\n",
    "print(\"List is: \",li)\n",
    "for i in range(0,length):\n",
    "    if li[i]%2==0:\n",
    "        l1.append(li[i])\n",
    "print(\"Even number list is: \",l1)"
   ]
  },
  {
   "cell_type": "markdown",
   "metadata": {},
   "source": [
    "### 09) WAP to count unique items in a list."
   ]
  },
  {
   "cell_type": "code",
   "execution_count": 111,
   "metadata": {},
   "outputs": [
    {
     "name": "stdin",
     "output_type": "stream",
     "text": [
      "Enter length of list:  6\n",
      "Enter a elements of list:  2\n",
      "Enter a elements of list:  4\n",
      "Enter a elements of list:  1\n",
      "Enter a elements of list:  2\n",
      "Enter a elements of list:  1\n",
      "Enter a elements of list:  4\n"
     ]
    },
    {
     "name": "stdout",
     "output_type": "stream",
     "text": [
      "List is:  [2, 4, 1]\n",
      "Counted List is:  3\n"
     ]
    }
   ],
   "source": [
    "li = []\n",
    "l1 = []\n",
    "length = int(input(\"Enter length of list: \"))\n",
    "for i in range(0,length):\n",
    "    ele = int(input(\"Enter a elements of list: \"))\n",
    "    li.append(ele)\n",
    "for i in li:\n",
    "    if i not in l1:\n",
    "        l1.append(i)\n",
    "print(\"List is: \",l1)\n",
    "print(\"Counted List is: \",len(l1))"
   ]
  },
  {
   "cell_type": "markdown",
   "metadata": {},
   "source": [
    "### 10) WAP to copy a list."
   ]
  },
  {
   "cell_type": "code",
   "execution_count": 131,
   "metadata": {},
   "outputs": [
    {
     "name": "stdout",
     "output_type": "stream",
     "text": [
      "{11: 3, 22: 3, 33: 3, 44: 2, 55: 2}\n"
     ]
    }
   ],
   "source": [
    "l1 = [11,22,33,44,55,11,11,22,22,33,44,55,33]\n",
    "# s = (l1)\n",
    "d = {}\n",
    "for i in l1:\n",
    "    if i not in d:\n",
    "        d[i]=1\n",
    "    else:\n",
    "        d[i]+=1\n",
    "print(d)\n",
    "# print(s[0])"
   ]
  },
  {
   "cell_type": "markdown",
   "metadata": {},
   "source": [
    "### 11) WAP to print all odd numbers in a given range."
   ]
  },
  {
   "cell_type": "code",
   "execution_count": 3,
   "metadata": {},
   "outputs": [
    {
     "name": "stdin",
     "output_type": "stream",
     "text": [
      "Enter the range: 10\n"
     ]
    },
    {
     "name": "stdout",
     "output_type": "stream",
     "text": [
      "odd number list [1, 3, 5, 7, 9]\n"
     ]
    }
   ],
   "source": [
    "n = int(input(\"Enter the range:\"))\n",
    "l=[i for i in range(1,n+1) if i%2!=0]\n",
    "print(\"odd number list\",l)"
   ]
  },
  {
   "cell_type": "markdown",
   "metadata": {},
   "source": [
    "### 12) WAP to count occurrences of an element in a list."
   ]
  },
  {
   "cell_type": "code",
   "execution_count": 7,
   "metadata": {},
   "outputs": [
    {
     "name": "stdin",
     "output_type": "stream",
     "text": [
      "Enter the element to find occurence of: 33\n"
     ]
    },
    {
     "name": "stdout",
     "output_type": "stream",
     "text": [
      "1\n"
     ]
    }
   ],
   "source": [
    "l=[11,22,33,24,52,12,11]\n",
    "n = int(input(\"Enter the element to find occurence of:\"))\n",
    "print(l.count(n))"
   ]
  },
  {
   "cell_type": "markdown",
   "metadata": {},
   "source": [
    "### 13) WAP to find second largest number in a list."
   ]
  },
  {
   "cell_type": "code",
   "execution_count": 9,
   "metadata": {},
   "outputs": [
    {
     "name": "stdout",
     "output_type": "stream",
     "text": [
      "second largest number 99\n",
      "largest number 100\n"
     ]
    }
   ],
   "source": [
    "l=[11,22,33,44,55,66,77,88,99,100]\n",
    "l.sort()\n",
    "print(\"second largest number\",l[len(l)-2])\n",
    "print(\"largest number\",l[len(l)-1])"
   ]
  },
  {
   "cell_type": "markdown",
   "metadata": {},
   "source": [
    "### 14) WAP to extract elements with frequency greater than K."
   ]
  },
  {
   "cell_type": "code",
   "execution_count": 11,
   "metadata": {},
   "outputs": [
    {
     "name": "stdin",
     "output_type": "stream",
     "text": [
      "Enter k: 1\n"
     ]
    },
    {
     "name": "stdout",
     "output_type": "stream",
     "text": [
      "[1, 22, 2]\n"
     ]
    }
   ],
   "source": [
    "l=[1,22,22,22,22,2,2,1]\n",
    "l1=[]\n",
    "k=int(input(\"Enter k:\"))\n",
    "for i in l:\n",
    "    if((l.count(i)>k) and (i not in l1)):\n",
    "        l1.append(i)\n",
    "print(l1)"
   ]
  },
  {
   "cell_type": "markdown",
   "metadata": {},
   "source": [
    "### 15) WAP to create a list of squared numbers from 0 to 9 with and without using List Comprehension."
   ]
  },
  {
   "cell_type": "code",
   "execution_count": 13,
   "metadata": {},
   "outputs": [
    {
     "name": "stdout",
     "output_type": "stream",
     "text": [
      "[0, 1, 4, 9, 16, 25, 36, 49, 64, 81]\n"
     ]
    }
   ],
   "source": [
    "# l=[i**2 for i in range(0,10)]\n",
    "# print(\"orignal list\",l)\n",
    "\n",
    "l1 = []\n",
    "for i in range(0,10):\n",
    "    l1.append(i**2)\n",
    "print(l1)"
   ]
  },
  {
   "cell_type": "markdown",
   "metadata": {},
   "source": [
    "### 16) WAP to create a new list (fruit whose name starts with 'b') from the list of fruits given by user."
   ]
  },
  {
   "cell_type": "code",
   "execution_count": 15,
   "metadata": {},
   "outputs": [
    {
     "name": "stdin",
     "output_type": "stream",
     "text": [
      "Enter 1st fruit: apple\n",
      "Enter 2nd fruit: bnana\n",
      "Enter 3rd fruit: grapes\n",
      "Enter 4th fruit: bluberry\n"
     ]
    },
    {
     "name": "stdout",
     "output_type": "stream",
     "text": [
      "['bnana', 'bluberry']\n"
     ]
    }
   ],
   "source": [
    "a=input(\"Enter 1st fruit:\")\n",
    "b=input(\"Enter 2nd fruit:\")\n",
    "c=input(\"Enter 3rd fruit:\")\n",
    "d=input(\"Enter 4th fruit:\")\n",
    "l1=[a,b,c,d]\n",
    "l2=[]\n",
    "l3=[]\n",
    "for i in l1:\n",
    "   if i.startswith('b'):\n",
    "       l2.append(i)\n",
    "   else:\n",
    "       l3.append(i)\n",
    "print(l2)\n",
    "        "
   ]
  },
  {
   "cell_type": "markdown",
   "metadata": {},
   "source": [
    "### 17) WAP to create a list of common elements from given two lists."
   ]
  },
  {
   "cell_type": "code",
   "execution_count": 17,
   "metadata": {},
   "outputs": [
    {
     "name": "stdout",
     "output_type": "stream",
     "text": [
      "[2, 5, 6]\n"
     ]
    }
   ],
   "source": [
    "l1=[1,2,3,4,5,6]\n",
    "l2=[2,5,6,7,8,9]\n",
    "l3=[]\n",
    "for i in l1:\n",
    "    if i in l2:\n",
    "        l3.append(i)\n",
    "print(l3)"
   ]
  }
 ],
 "metadata": {
  "kernelspec": {
   "display_name": "Python 3 (ipykernel)",
   "language": "python",
   "name": "python3"
  },
  "language_info": {
   "codemirror_mode": {
    "name": "ipython",
    "version": 3
   },
   "file_extension": ".py",
   "mimetype": "text/x-python",
   "name": "python",
   "nbconvert_exporter": "python",
   "pygments_lexer": "ipython3",
   "version": "3.12.7"
  }
 },
 "nbformat": 4,
 "nbformat_minor": 4
}
