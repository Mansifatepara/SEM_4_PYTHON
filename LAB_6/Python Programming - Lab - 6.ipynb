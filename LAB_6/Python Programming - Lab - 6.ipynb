{
 "cells": [
  {
   "attachments": {},
   "cell_type": "markdown",
   "metadata": {},
   "source": [
    "<a href='https://www.darshan.ac.in/'> <img src='https://www.darshan.ac.in/Content/media/DU_Logo.svg' width=\"250\" height=\"300\"/></a>\n",
    "<pre>\n",
    "<center><b><h1>Python Programming - 2301CS404</b></center>\n",
    "<center><b><h1>Lab - 6</b></center>\n",
    "    <center><b><h1>Mansi Fatepara | 23010101079 | 08/01/2025</b></center>\n",
    "<pre>"
   ]
  },
  {
   "cell_type": "markdown",
   "metadata": {},
   "source": [
    "# Tuple"
   ]
  },
  {
   "cell_type": "markdown",
   "metadata": {},
   "source": [
    "### 01) WAP to find sum of tuple elements."
   ]
  },
  {
   "cell_type": "code",
   "execution_count": 38,
   "metadata": {},
   "outputs": [
    {
     "name": "stdin",
     "output_type": "stream",
     "text": [
      "Enter a length of tuple:  3\n",
      "Enter a elements in tuple:  1\n",
      "Enter a elements in tuple:  2\n",
      "Enter a elements in tuple:  3\n"
     ]
    },
    {
     "name": "stdout",
     "output_type": "stream",
     "text": [
      "tuple is:  (1, 2, 3)\n",
      "sum of tuple is:  6\n"
     ]
    }
   ],
   "source": [
    "length = int(input('Enter a length of tuple: '))\n",
    "t1=()\n",
    "for i in range(0,length):\n",
    "    elements = int(input('Enter a elements in tuple: '))\n",
    "    t1+=(elements,)\n",
    "print('tuple is: ',t1)\n",
    "sum_of_tuple = sum(t1)\n",
    "print('sum of tuple is: ',sum_of_tuple)"
   ]
  },
  {
   "cell_type": "markdown",
   "metadata": {},
   "source": [
    "### 02) WAP to find Maximum and Minimum K elements in a given tuple."
   ]
  },
  {
   "cell_type": "code",
   "execution_count": 13,
   "metadata": {},
   "outputs": [
    {
     "name": "stdin",
     "output_type": "stream",
     "text": [
      "Enter a length of tuple:  10\n",
      "Enter a elements in tuple:  4\n",
      "Enter a elements in tuple:  7\n",
      "Enter a elements in tuple:  2\n",
      "Enter a elements in tuple:  8\n",
      "Enter a elements in tuple:  3\n",
      "Enter a elements in tuple:  7\n",
      "Enter a elements in tuple:  4\n",
      "Enter a elements in tuple:  2\n",
      "Enter a elements in tuple:  9\n",
      "Enter a elements in tuple:  1\n"
     ]
    },
    {
     "name": "stdout",
     "output_type": "stream",
     "text": [
      "tuple is:  (4, 7, 2, 8, 3, 7, 4, 2, 9, 1)\n"
     ]
    },
    {
     "name": "stdin",
     "output_type": "stream",
     "text": [
      "Enter a value of you find k elements of minimum & maximum:  3\n"
     ]
    },
    {
     "name": "stdout",
     "output_type": "stream",
     "text": [
      "[1, 2, 3]\n",
      "[7, 8, 9]\n"
     ]
    }
   ],
   "source": [
    "length = int(input('Enter a length of tuple: '))\n",
    "t1=()\n",
    "for i in range(0,length):\n",
    "    elements = int(input('Enter a elements in tuple: '))\n",
    "    t1+=(elements,)\n",
    "print('tuple is: ',t1)\n",
    "# t1 = (4, 7, 2, 8, 3, 7, 4, 2, 9, 1)\n",
    "# k=3\n",
    "k = int(input('Enter a value of you find k elements of minimum & maximum: '))\n",
    "if k<=0 or k>=len(t1):\n",
    "    print('invalid value of k!!')\n",
    "tuple_sort = sorted(set(t1))\n",
    "min_ele = tuple_sort[:k]\n",
    "max_ele = tuple_sort[-k:]\n",
    "print(min_ele)\n",
    "print(max_ele)"
   ]
  },
  {
   "cell_type": "markdown",
   "metadata": {},
   "source": [
    "### 03) WAP to find tuples which have all elements divisible by K from a list of tuples."
   ]
  },
  {
   "cell_type": "code",
   "execution_count": 7,
   "metadata": {},
   "outputs": [
    {
     "name": "stdin",
     "output_type": "stream",
     "text": [
      "Enter a Number Of Tuples :  2\n",
      "Enter a Size Of Tuples :  3\n",
      "Enter an Element :  1\n",
      "Enter an Element :  5\n",
      "Enter an Element :  10\n",
      "Enter a Size Of Tuples :  3\n",
      "Enter an Element :  2\n",
      "Enter an Element :  4\n",
      "Enter an Element :  6\n"
     ]
    },
    {
     "name": "stdout",
     "output_type": "stream",
     "text": [
      "Tuple is :  [(1, 5, 10), (2, 4, 6)]\n"
     ]
    },
    {
     "name": "stdin",
     "output_type": "stream",
     "text": [
      "Enter a value of divisible by this value:  2\n"
     ]
    },
    {
     "name": "stdout",
     "output_type": "stream",
     "text": [
      "(2, 4, 6)\n"
     ]
    }
   ],
   "source": [
    "l1 = []\n",
    "t1 = ()\n",
    "n = int(input(\"Enter a Number Of Tuples : \"))\n",
    "for i in range(0,n):\n",
    "    size = int(input(\"Enter a Size Of Tuples : \"))\n",
    "    for j in range(0,size):\n",
    "        ele = int(input(\"Enter an Element : \"))\n",
    "        t1 += (ele,)\n",
    "    l1.append(t1)\n",
    "    t1 = ()\n",
    "print(\"Tuple is : \",l1)\n",
    "k = int(input('Enter a value of divisible by this value: '))\n",
    "for t1 in l1:\n",
    "    if all(i%k==0 for i in t1):\n",
    "        print(t1)\n",
    "\n",
    "\n",
    "# using comprehension..!!\n",
    "# tuples_list = [(10, 20, 30), (15, 25, 35), (6, 12, 18), (7, 14, 21)]\n",
    "# result = [tup for tup in tuples_list if all(element % k == 0 for element in tup)]\n",
    "# print(result)"
   ]
  },
  {
   "cell_type": "markdown",
   "metadata": {},
   "source": [
    "### 04) WAP to create a list of tuples from given list having number and its cube in each tuple."
   ]
  },
  {
   "cell_type": "code",
   "execution_count": 1,
   "metadata": {},
   "outputs": [
    {
     "name": "stdout",
     "output_type": "stream",
     "text": [
      "[(1, 1), (2, 8), (3, 27), (4, 64), (5, 125)]\n"
     ]
    }
   ],
   "source": [
    "l1=[1,2,3,4,5]\n",
    "l=[(i,i**3) for i in l1]\n",
    "print(l)"
   ]
  },
  {
   "cell_type": "markdown",
   "metadata": {},
   "source": [
    "### 05) WAP to find tuples with all positive elements from the given list of tuples."
   ]
  },
  {
   "cell_type": "code",
   "execution_count": 3,
   "metadata": {},
   "outputs": [
    {
     "name": "stdout",
     "output_type": "stream",
     "text": [
      "(10, 20, 30, 40, 50)\n"
     ]
    }
   ],
   "source": [
    "t1=(1,-2,4,-5,6)\n",
    "t2=(10,20,30,40,50)\n",
    "l=[t1,t2]\n",
    "count=0\n",
    "for i in l:\n",
    "    count=0\n",
    "    for j in i:\n",
    "        if j>0:\n",
    "            count+=1\n",
    "    if count==len(i):\n",
    "        print(i)"
   ]
  },
  {
   "cell_type": "markdown",
   "metadata": {},
   "source": [
    "### 06) WAP to add tuple to list and vice – versa."
   ]
  },
  {
   "cell_type": "code",
   "execution_count": 5,
   "metadata": {},
   "outputs": [
    {
     "name": "stdout",
     "output_type": "stream",
     "text": [
      "[1, 2, 3, 4, 50, (16, 18, 20, 220)]\n",
      "(10, 20, 30, 40, 50, [1, 2, 2, 4, 6])\n"
     ]
    }
   ],
   "source": [
    "l1=[1,2,3,4,50]\n",
    "t1=(16,18,20,220)\n",
    "l1.append(t1)\n",
    "print(l1)\n",
    "t2=(10,20,30,40,50)\n",
    "l1=[1,2,2,4,6]\n",
    "t2=t2+(l1,)\n",
    "print(t2)"
   ]
  },
  {
   "cell_type": "markdown",
   "metadata": {},
   "source": [
    "### 07) WAP to remove tuples of length K."
   ]
  },
  {
   "cell_type": "code",
   "execution_count": 7,
   "metadata": {},
   "outputs": [
    {
     "name": "stdin",
     "output_type": "stream",
     "text": [
      "Enter desired length 3\n"
     ]
    },
    {
     "name": "stdout",
     "output_type": "stream",
     "text": [
      "[(1, 2, 3, 4), (10, 5, 8, 20), (45, 60)]\n"
     ]
    }
   ],
   "source": [
    "l1=[(1,2,3,4),(10,5,8,20),(3,5,6),(45,60)]\n",
    "l2=[]\n",
    "k=int(input(\"Enter desired length\"))\n",
    "count=0\n",
    "for i in l1:\n",
    "    count=0\n",
    "    for j in i:\n",
    "            count+=1\n",
    "    if count!=k:\n",
    "        l2.append(i)\n",
    "print(l2)"
   ]
  },
  {
   "cell_type": "markdown",
   "metadata": {},
   "source": [
    "### 08) WAP to remove duplicates from tuple."
   ]
  },
  {
   "cell_type": "code",
   "execution_count": 11,
   "metadata": {},
   "outputs": [
    {
     "name": "stdout",
     "output_type": "stream",
     "text": [
      "(1, 2, 3, 20)\n"
     ]
    }
   ],
   "source": [
    "t1=(1,2,3,2,20)\n",
    "t2=()\n",
    "for i in t1:\n",
    "    if i not in t2:\n",
    "        t2+=(i,)\n",
    "print(t2)"
   ]
  },
  {
   "cell_type": "markdown",
   "metadata": {},
   "source": [
    "### 09) WAP to multiply adjacent elements of a tuple and print that resultant tuple."
   ]
  },
  {
   "cell_type": "code",
   "execution_count": 13,
   "metadata": {},
   "outputs": [
    {
     "name": "stdout",
     "output_type": "stream",
     "text": [
      "(2, 6, 12, 20, 30)\n"
     ]
    }
   ],
   "source": [
    "t1=(1,2,3,4,5,6)\n",
    "ans=tuple(i*j for i,j in zip(t1,t1[1:]))\n",
    "print(ans)"
   ]
  },
  {
   "cell_type": "markdown",
   "metadata": {},
   "source": [
    "### 10) WAP to test if the given tuple is distinct or not."
   ]
  },
  {
   "cell_type": "code",
   "execution_count": 19,
   "metadata": {},
   "outputs": [
    {
     "name": "stdout",
     "output_type": "stream",
     "text": [
      "Distinct\n"
     ]
    }
   ],
   "source": [
    "# t1=(1,2,3,4,5,6,6)\n",
    "t1 = (1,2,3,4)\n",
    "count=0\n",
    "for i in t1:\n",
    "    if(t1.count(i)!=1):\n",
    "        print('Not distinct')\n",
    "        break\n",
    "\n",
    "else:\n",
    "    print('Distinct')"
   ]
  }
 ],
 "metadata": {
  "kernelspec": {
   "display_name": "Python 3 (ipykernel)",
   "language": "python",
   "name": "python3"
  },
  "language_info": {
   "codemirror_mode": {
    "name": "ipython",
    "version": 3
   },
   "file_extension": ".py",
   "mimetype": "text/x-python",
   "name": "python",
   "nbconvert_exporter": "python",
   "pygments_lexer": "ipython3",
   "version": "3.12.7"
  }
 },
 "nbformat": 4,
 "nbformat_minor": 4
}
